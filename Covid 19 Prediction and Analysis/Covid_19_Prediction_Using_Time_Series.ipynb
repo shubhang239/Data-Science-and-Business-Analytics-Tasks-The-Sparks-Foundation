{
  "nbformat": 4,
  "nbformat_minor": 0,
  "metadata": {
    "colab": {
      "name": "Covid-19 Prediction Using Time Series.ipynb",
      "provenance": [],
      "collapsed_sections": [
        "GRiUtnEnHZHg",
        "_kfVZtDBI7dA",
        "1Hkv7azjJyh5",
        "gaPzx8JM_67w"
      ]
    },
    "kernelspec": {
      "display_name": "Python 3",
      "name": "python3"
    },
    "language_info": {
      "name": "python"
    }
  },
  "cells": [
    {
      "cell_type": "markdown",
      "metadata": {
        "id": "0MOvDpW2Kzyp"
      },
      "source": [
        "## Importing Necessary Libraries\n"
      ]
    },
    {
      "cell_type": "code",
      "metadata": {
        "id": "mux0gsT03EzC"
      },
      "source": [
        "import pandas as pd\n",
        "\n",
        "# visualization libraries\n",
        "import matplotlib.pyplot as plt\n",
        "%matplotlib inline\n",
        "import seaborn as sns\n",
        "import plotly.express as px\n",
        "import plotly.graph_objects as go\n",
        "import folium\n",
        "from folium import plugins\n",
        "\n",
        "# Manipulating the default plot size\n",
        "plt.rcParams['figure.figsize'] = 10,12\n",
        "# Disable Warnings\n",
        "import warnings\n",
        "warnings.filterwarnings('ignore')"
      ],
      "execution_count": null,
      "outputs": []
    },
    {
      "cell_type": "markdown",
      "metadata": {
        "id": "ovNn4oY8gk4b"
      },
      "source": [
        "## Data Preprocessing"
      ]
    },
    {
      "cell_type": "code",
      "metadata": {
        "colab": {
          "base_uri": "https://localhost:8080/",
          "height": 300
        },
        "id": "9m4wAS_238vn",
        "outputId": "0cf83a1e-6f2e-4983-c252-e458148f8180"
      },
      "source": [
        "# Reading the dataset\n",
        "df1 = pd.read_csv('/content/COVID-19 Cases(19-11-2021).csv')\n",
        "df = df1.copy()\n",
        "df.head(8)"
      ],
      "execution_count": null,
      "outputs": [
        {
          "output_type": "execute_result",
          "data": {
            "text/html": [
              "<div>\n",
              "<style scoped>\n",
              "    .dataframe tbody tr th:only-of-type {\n",
              "        vertical-align: middle;\n",
              "    }\n",
              "\n",
              "    .dataframe tbody tr th {\n",
              "        vertical-align: top;\n",
              "    }\n",
              "\n",
              "    .dataframe thead th {\n",
              "        text-align: right;\n",
              "    }\n",
              "</style>\n",
              "<table border=\"1\" class=\"dataframe\">\n",
              "  <thead>\n",
              "    <tr style=\"text-align: right;\">\n",
              "      <th></th>\n",
              "      <th>S. No.</th>\n",
              "      <th>Date</th>\n",
              "      <th>Region</th>\n",
              "      <th>Confirmed Cases</th>\n",
              "      <th>Active Cases</th>\n",
              "      <th>Cured/Discharged</th>\n",
              "      <th>Death</th>\n",
              "    </tr>\n",
              "  </thead>\n",
              "  <tbody>\n",
              "    <tr>\n",
              "      <th>0</th>\n",
              "      <td>1</td>\n",
              "      <td>01-01-1970</td>\n",
              "      <td>India</td>\n",
              "      <td>34260470</td>\n",
              "      <td>161555.0</td>\n",
              "      <td>33641175.0</td>\n",
              "      <td>457740.0</td>\n",
              "    </tr>\n",
              "    <tr>\n",
              "      <th>1</th>\n",
              "      <td>2</td>\n",
              "      <td>12-03-2020</td>\n",
              "      <td>India</td>\n",
              "      <td>74</td>\n",
              "      <td>71.0</td>\n",
              "      <td>3.0</td>\n",
              "      <td>0.0</td>\n",
              "    </tr>\n",
              "    <tr>\n",
              "      <th>2</th>\n",
              "      <td>3</td>\n",
              "      <td>13-03-2020</td>\n",
              "      <td>India</td>\n",
              "      <td>75</td>\n",
              "      <td>71.0</td>\n",
              "      <td>3.0</td>\n",
              "      <td>1.0</td>\n",
              "    </tr>\n",
              "    <tr>\n",
              "      <th>3</th>\n",
              "      <td>4</td>\n",
              "      <td>14-03-2020</td>\n",
              "      <td>India</td>\n",
              "      <td>84</td>\n",
              "      <td>72.0</td>\n",
              "      <td>10.0</td>\n",
              "      <td>2.0</td>\n",
              "    </tr>\n",
              "    <tr>\n",
              "      <th>4</th>\n",
              "      <td>5</td>\n",
              "      <td>15-03-2020</td>\n",
              "      <td>India</td>\n",
              "      <td>107</td>\n",
              "      <td>95.0</td>\n",
              "      <td>10.0</td>\n",
              "      <td>2.0</td>\n",
              "    </tr>\n",
              "    <tr>\n",
              "      <th>5</th>\n",
              "      <td>6</td>\n",
              "      <td>16-03-2020</td>\n",
              "      <td>India</td>\n",
              "      <td>114</td>\n",
              "      <td>99.0</td>\n",
              "      <td>13.0</td>\n",
              "      <td>2.0</td>\n",
              "    </tr>\n",
              "    <tr>\n",
              "      <th>6</th>\n",
              "      <td>7</td>\n",
              "      <td>17-03-2020</td>\n",
              "      <td>India</td>\n",
              "      <td>137</td>\n",
              "      <td>120.0</td>\n",
              "      <td>14.0</td>\n",
              "      <td>3.0</td>\n",
              "    </tr>\n",
              "    <tr>\n",
              "      <th>7</th>\n",
              "      <td>8</td>\n",
              "      <td>18-03-2020</td>\n",
              "      <td>India</td>\n",
              "      <td>146</td>\n",
              "      <td>129.0</td>\n",
              "      <td>14.0</td>\n",
              "      <td>3.0</td>\n",
              "    </tr>\n",
              "  </tbody>\n",
              "</table>\n",
              "</div>"
            ],
            "text/plain": [
              "   S. No.        Date Region  ...  Active Cases  Cured/Discharged     Death\n",
              "0       1  01-01-1970  India  ...      161555.0        33641175.0  457740.0\n",
              "1       2  12-03-2020  India  ...          71.0               3.0       0.0\n",
              "2       3  13-03-2020  India  ...          71.0               3.0       1.0\n",
              "3       4  14-03-2020  India  ...          72.0              10.0       2.0\n",
              "4       5  15-03-2020  India  ...          95.0              10.0       2.0\n",
              "5       6  16-03-2020  India  ...          99.0              13.0       2.0\n",
              "6       7  17-03-2020  India  ...         120.0              14.0       3.0\n",
              "7       8  18-03-2020  India  ...         129.0              14.0       3.0\n",
              "\n",
              "[8 rows x 7 columns]"
            ]
          },
          "metadata": {},
          "execution_count": 2
        }
      ]
    },
    {
      "cell_type": "markdown",
      "metadata": {
        "id": "ClVmycLx7Uq0"
      },
      "source": [
        "Under region there is India. Why is India under regions when this was supposed to be state data ? Will do a further analysis on this. Also I will find out the shape of our data and the datatypes present in it.\n"
      ]
    },
    {
      "cell_type": "code",
      "metadata": {
        "colab": {
          "base_uri": "https://localhost:8080/"
        },
        "id": "t_vD_w0F7TBL",
        "outputId": "ef00e097-ef6b-491e-e46c-e938b7a1e92e"
      },
      "source": [
        "df.shape"
      ],
      "execution_count": null,
      "outputs": [
        {
          "output_type": "execute_result",
          "data": {
            "text/plain": [
              "(22305, 7)"
            ]
          },
          "metadata": {},
          "execution_count": 3
        }
      ]
    },
    {
      "cell_type": "code",
      "metadata": {
        "colab": {
          "base_uri": "https://localhost:8080/"
        },
        "id": "oH97q9mq8sum",
        "outputId": "ef0b37b6-8368-4022-bfe0-f3c55d0ac957"
      },
      "source": [
        "df.columns"
      ],
      "execution_count": null,
      "outputs": [
        {
          "output_type": "execute_result",
          "data": {
            "text/plain": [
              "Index(['S. No.', 'Date', 'Region', 'Confirmed Cases', 'Active Cases',\n",
              "       'Cured/Discharged', 'Death'],\n",
              "      dtype='object')"
            ]
          },
          "metadata": {},
          "execution_count": 4
        }
      ]
    },
    {
      "cell_type": "code",
      "metadata": {
        "id": "J9aC2NO08YC5"
      },
      "source": [
        "# try to understand each column\n",
        "# drop s.no\n",
        "df.drop(columns = ['S. No.'], axis = 1, inplace = True)"
      ],
      "execution_count": null,
      "outputs": []
    },
    {
      "cell_type": "code",
      "metadata": {
        "colab": {
          "base_uri": "https://localhost:8080/"
        },
        "id": "WKvKtMnW9Ihn",
        "outputId": "aed2df74-c007-404c-add7-015226095ff8"
      },
      "source": [
        "df.dtypes"
      ],
      "execution_count": null,
      "outputs": [
        {
          "output_type": "execute_result",
          "data": {
            "text/plain": [
              "Date                 object\n",
              "Region               object\n",
              "Confirmed Cases       int64\n",
              "Active Cases        float64\n",
              "Cured/Discharged    float64\n",
              "Death               float64\n",
              "dtype: object"
            ]
          },
          "metadata": {},
          "execution_count": 6
        }
      ]
    },
    {
      "cell_type": "code",
      "metadata": {
        "colab": {
          "base_uri": "https://localhost:8080/"
        },
        "id": "QW0tkOnK8ys2",
        "outputId": "431d3df3-cee7-4da2-a699-fb5fde7307ff"
      },
      "source": [
        "df[df['Region'] == 'India'].shape"
      ],
      "execution_count": null,
      "outputs": [
        {
          "output_type": "execute_result",
          "data": {
            "text/plain": [
              "(600, 6)"
            ]
          },
          "metadata": {},
          "execution_count": 7
        }
      ]
    },
    {
      "cell_type": "markdown",
      "metadata": {
        "id": "N9ce461UYdEE"
      },
      "source": [
        "We can infer that Region = India gives us the sum of cases of all states ie national count of cases with time. \n",
        "I want to check whether each state has cases measured for the same time period.\n",
        "I will check the number of rows for each state's cases to verify this."
      ]
    },
    {
      "cell_type": "code",
      "metadata": {
        "colab": {
          "base_uri": "https://localhost:8080/"
        },
        "id": "L8shZMA--wgs",
        "outputId": "64c73eda-e60a-46bc-d727-2a27150fb1d6"
      },
      "source": [
        "print('For Rajasthan:', df[df['Region'] == 'Rajasthan'].shape)\n",
        "print('For Meghalaya:', df[df['Region'] == 'Meghalaya'].shape)\n"
      ],
      "execution_count": null,
      "outputs": [
        {
          "output_type": "stream",
          "name": "stdout",
          "text": [
            "For Rajasthan: (600, 6)\n",
            "For Meghalaya: (566, 6)\n"
          ]
        }
      ]
    },
    {
      "cell_type": "markdown",
      "metadata": {
        "id": "VPhODqLoZlk8"
      },
      "source": [
        "It was same for Rajasthan and the national figure but different from Meghalaya. So its not necessary that cases have been measured for same dates."
      ]
    },
    {
      "cell_type": "markdown",
      "metadata": {
        "id": "5C85JmDjKjv9"
      },
      "source": [
        "## Data Cleaning\n",
        "### Null Values Imputation"
      ]
    },
    {
      "cell_type": "code",
      "metadata": {
        "colab": {
          "base_uri": "https://localhost:8080/"
        },
        "id": "eeC0iqepZ03e",
        "outputId": "7d3ef9c6-6a85-4610-91bd-b25d4abeeed2"
      },
      "source": [
        "df.isnull().sum()"
      ],
      "execution_count": null,
      "outputs": [
        {
          "output_type": "execute_result",
          "data": {
            "text/plain": [
              "Date                  0\n",
              "Region                0\n",
              "Confirmed Cases       0\n",
              "Active Cases        609\n",
              "Cured/Discharged    610\n",
              "Death                 1\n",
              "dtype: int64"
            ]
          },
          "metadata": {},
          "execution_count": 9
        }
      ]
    },
    {
      "cell_type": "code",
      "metadata": {
        "colab": {
          "base_uri": "https://localhost:8080/",
          "height": 423
        },
        "id": "dz_wfYv9Z-0Q",
        "outputId": "3e85df2a-3cfb-4218-a471-488ab0146693"
      },
      "source": [
        "# look deeper into null values\n",
        "df[df['Active Cases'].isnull()]"
      ],
      "execution_count": null,
      "outputs": [
        {
          "output_type": "execute_result",
          "data": {
            "text/html": [
              "<div>\n",
              "<style scoped>\n",
              "    .dataframe tbody tr th:only-of-type {\n",
              "        vertical-align: middle;\n",
              "    }\n",
              "\n",
              "    .dataframe tbody tr th {\n",
              "        vertical-align: top;\n",
              "    }\n",
              "\n",
              "    .dataframe thead th {\n",
              "        text-align: right;\n",
              "    }\n",
              "</style>\n",
              "<table border=\"1\" class=\"dataframe\">\n",
              "  <thead>\n",
              "    <tr style=\"text-align: right;\">\n",
              "      <th></th>\n",
              "      <th>Date</th>\n",
              "      <th>Region</th>\n",
              "      <th>Confirmed Cases</th>\n",
              "      <th>Active Cases</th>\n",
              "      <th>Cured/Discharged</th>\n",
              "      <th>Death</th>\n",
              "    </tr>\n",
              "  </thead>\n",
              "  <tbody>\n",
              "    <tr>\n",
              "      <th>21696</th>\n",
              "      <td>01-01-1970</td>\n",
              "      <td>World</td>\n",
              "      <td>245373039</td>\n",
              "      <td>NaN</td>\n",
              "      <td>NaN</td>\n",
              "      <td>4979421.0</td>\n",
              "    </tr>\n",
              "    <tr>\n",
              "      <th>21697</th>\n",
              "      <td>12-03-2020</td>\n",
              "      <td>World</td>\n",
              "      <td>129149</td>\n",
              "      <td>NaN</td>\n",
              "      <td>NaN</td>\n",
              "      <td>4724.0</td>\n",
              "    </tr>\n",
              "    <tr>\n",
              "      <th>21698</th>\n",
              "      <td>13-03-2020</td>\n",
              "      <td>World</td>\n",
              "      <td>138704</td>\n",
              "      <td>NaN</td>\n",
              "      <td>NaN</td>\n",
              "      <td>5085.0</td>\n",
              "    </tr>\n",
              "    <tr>\n",
              "      <th>21699</th>\n",
              "      <td>14-03-2020</td>\n",
              "      <td>World</td>\n",
              "      <td>149469</td>\n",
              "      <td>NaN</td>\n",
              "      <td>NaN</td>\n",
              "      <td>5553.0</td>\n",
              "    </tr>\n",
              "    <tr>\n",
              "      <th>21700</th>\n",
              "      <td>15-03-2020</td>\n",
              "      <td>World</td>\n",
              "      <td>161291</td>\n",
              "      <td>NaN</td>\n",
              "      <td>NaN</td>\n",
              "      <td>6003.0</td>\n",
              "    </tr>\n",
              "    <tr>\n",
              "      <th>...</th>\n",
              "      <td>...</td>\n",
              "      <td>...</td>\n",
              "      <td>...</td>\n",
              "      <td>...</td>\n",
              "      <td>...</td>\n",
              "      <td>...</td>\n",
              "    </tr>\n",
              "    <tr>\n",
              "      <th>22300</th>\n",
              "      <td>08-11-2021</td>\n",
              "      <td>World</td>\n",
              "      <td>249743428</td>\n",
              "      <td>NaN</td>\n",
              "      <td>NaN</td>\n",
              "      <td>5047652.0</td>\n",
              "    </tr>\n",
              "    <tr>\n",
              "      <th>22301</th>\n",
              "      <td>10-11-2021</td>\n",
              "      <td>World</td>\n",
              "      <td>250715502</td>\n",
              "      <td>NaN</td>\n",
              "      <td>NaN</td>\n",
              "      <td>5062106.0</td>\n",
              "    </tr>\n",
              "    <tr>\n",
              "      <th>22302</th>\n",
              "      <td>11-11-2021</td>\n",
              "      <td>World</td>\n",
              "      <td>251266207</td>\n",
              "      <td>NaN</td>\n",
              "      <td>NaN</td>\n",
              "      <td>5070244.0</td>\n",
              "    </tr>\n",
              "    <tr>\n",
              "      <th>22303</th>\n",
              "      <td>12-11-2021</td>\n",
              "      <td>World</td>\n",
              "      <td>251788329</td>\n",
              "      <td>NaN</td>\n",
              "      <td>NaN</td>\n",
              "      <td>5077907.0</td>\n",
              "    </tr>\n",
              "    <tr>\n",
              "      <th>22304</th>\n",
              "      <td>16-11-2021</td>\n",
              "      <td>World</td>\n",
              "      <td>253640693</td>\n",
              "      <td>NaN</td>\n",
              "      <td>NaN</td>\n",
              "      <td>5104899.0</td>\n",
              "    </tr>\n",
              "  </tbody>\n",
              "</table>\n",
              "<p>609 rows × 6 columns</p>\n",
              "</div>"
            ],
            "text/plain": [
              "             Date Region  ...  Cured/Discharged      Death\n",
              "21696  01-01-1970  World  ...               NaN  4979421.0\n",
              "21697  12-03-2020  World  ...               NaN     4724.0\n",
              "21698  13-03-2020  World  ...               NaN     5085.0\n",
              "21699  14-03-2020  World  ...               NaN     5553.0\n",
              "21700  15-03-2020  World  ...               NaN     6003.0\n",
              "...           ...    ...  ...               ...        ...\n",
              "22300  08-11-2021  World  ...               NaN  5047652.0\n",
              "22301  10-11-2021  World  ...               NaN  5062106.0\n",
              "22302  11-11-2021  World  ...               NaN  5070244.0\n",
              "22303  12-11-2021  World  ...               NaN  5077907.0\n",
              "22304  16-11-2021  World  ...               NaN  5104899.0\n",
              "\n",
              "[609 rows x 6 columns]"
            ]
          },
          "metadata": {},
          "execution_count": 10
        }
      ]
    },
    {
      "cell_type": "code",
      "metadata": {
        "colab": {
          "base_uri": "https://localhost:8080/"
        },
        "id": "xyQExbLMbeu9",
        "outputId": "5dc114a2-7c8b-4297-c5fa-4452674174ca"
      },
      "source": [
        "df[df['Region'] == 'World'].shape"
      ],
      "execution_count": null,
      "outputs": [
        {
          "output_type": "execute_result",
          "data": {
            "text/plain": [
              "(609, 6)"
            ]
          },
          "metadata": {},
          "execution_count": 11
        }
      ]
    },
    {
      "cell_type": "code",
      "metadata": {
        "colab": {
          "base_uri": "https://localhost:8080/"
        },
        "id": "YqzLqZyNcLj6",
        "outputId": "d51d80df-f37e-4874-91fa-d13f15954979"
      },
      "source": [
        "df_active_null = df[df.isnull()]\n",
        "df_active_null['Region'].nunique()"
      ],
      "execution_count": null,
      "outputs": [
        {
          "output_type": "execute_result",
          "data": {
            "text/plain": [
              "0"
            ]
          },
          "metadata": {},
          "execution_count": 12
        }
      ]
    },
    {
      "cell_type": "markdown",
      "metadata": {
        "id": "IpYrfepJcnZt"
      },
      "source": [
        "All null values for active cases come from world count of cases. Instead of dropping we will just leave out these rows while selecting our new dataframe."
      ]
    },
    {
      "cell_type": "code",
      "metadata": {
        "colab": {
          "base_uri": "https://localhost:8080/",
          "height": 423
        },
        "id": "cVhdau5mcm6g",
        "outputId": "19ad4db4-6674-40bf-da3d-523463cfc393"
      },
      "source": [
        "df[df['Cured/Discharged'].isnull()]"
      ],
      "execution_count": null,
      "outputs": [
        {
          "output_type": "execute_result",
          "data": {
            "text/html": [
              "<div>\n",
              "<style scoped>\n",
              "    .dataframe tbody tr th:only-of-type {\n",
              "        vertical-align: middle;\n",
              "    }\n",
              "\n",
              "    .dataframe tbody tr th {\n",
              "        vertical-align: top;\n",
              "    }\n",
              "\n",
              "    .dataframe thead th {\n",
              "        text-align: right;\n",
              "    }\n",
              "</style>\n",
              "<table border=\"1\" class=\"dataframe\">\n",
              "  <thead>\n",
              "    <tr style=\"text-align: right;\">\n",
              "      <th></th>\n",
              "      <th>Date</th>\n",
              "      <th>Region</th>\n",
              "      <th>Confirmed Cases</th>\n",
              "      <th>Active Cases</th>\n",
              "      <th>Cured/Discharged</th>\n",
              "      <th>Death</th>\n",
              "    </tr>\n",
              "  </thead>\n",
              "  <tbody>\n",
              "    <tr>\n",
              "      <th>18065</th>\n",
              "      <td>03-04-2020</td>\n",
              "      <td>State assignment pending</td>\n",
              "      <td>18</td>\n",
              "      <td>18.0</td>\n",
              "      <td>NaN</td>\n",
              "      <td>NaN</td>\n",
              "    </tr>\n",
              "    <tr>\n",
              "      <th>21696</th>\n",
              "      <td>01-01-1970</td>\n",
              "      <td>World</td>\n",
              "      <td>245373039</td>\n",
              "      <td>NaN</td>\n",
              "      <td>NaN</td>\n",
              "      <td>4979421.0</td>\n",
              "    </tr>\n",
              "    <tr>\n",
              "      <th>21697</th>\n",
              "      <td>12-03-2020</td>\n",
              "      <td>World</td>\n",
              "      <td>129149</td>\n",
              "      <td>NaN</td>\n",
              "      <td>NaN</td>\n",
              "      <td>4724.0</td>\n",
              "    </tr>\n",
              "    <tr>\n",
              "      <th>21698</th>\n",
              "      <td>13-03-2020</td>\n",
              "      <td>World</td>\n",
              "      <td>138704</td>\n",
              "      <td>NaN</td>\n",
              "      <td>NaN</td>\n",
              "      <td>5085.0</td>\n",
              "    </tr>\n",
              "    <tr>\n",
              "      <th>21699</th>\n",
              "      <td>14-03-2020</td>\n",
              "      <td>World</td>\n",
              "      <td>149469</td>\n",
              "      <td>NaN</td>\n",
              "      <td>NaN</td>\n",
              "      <td>5553.0</td>\n",
              "    </tr>\n",
              "    <tr>\n",
              "      <th>...</th>\n",
              "      <td>...</td>\n",
              "      <td>...</td>\n",
              "      <td>...</td>\n",
              "      <td>...</td>\n",
              "      <td>...</td>\n",
              "      <td>...</td>\n",
              "    </tr>\n",
              "    <tr>\n",
              "      <th>22300</th>\n",
              "      <td>08-11-2021</td>\n",
              "      <td>World</td>\n",
              "      <td>249743428</td>\n",
              "      <td>NaN</td>\n",
              "      <td>NaN</td>\n",
              "      <td>5047652.0</td>\n",
              "    </tr>\n",
              "    <tr>\n",
              "      <th>22301</th>\n",
              "      <td>10-11-2021</td>\n",
              "      <td>World</td>\n",
              "      <td>250715502</td>\n",
              "      <td>NaN</td>\n",
              "      <td>NaN</td>\n",
              "      <td>5062106.0</td>\n",
              "    </tr>\n",
              "    <tr>\n",
              "      <th>22302</th>\n",
              "      <td>11-11-2021</td>\n",
              "      <td>World</td>\n",
              "      <td>251266207</td>\n",
              "      <td>NaN</td>\n",
              "      <td>NaN</td>\n",
              "      <td>5070244.0</td>\n",
              "    </tr>\n",
              "    <tr>\n",
              "      <th>22303</th>\n",
              "      <td>12-11-2021</td>\n",
              "      <td>World</td>\n",
              "      <td>251788329</td>\n",
              "      <td>NaN</td>\n",
              "      <td>NaN</td>\n",
              "      <td>5077907.0</td>\n",
              "    </tr>\n",
              "    <tr>\n",
              "      <th>22304</th>\n",
              "      <td>16-11-2021</td>\n",
              "      <td>World</td>\n",
              "      <td>253640693</td>\n",
              "      <td>NaN</td>\n",
              "      <td>NaN</td>\n",
              "      <td>5104899.0</td>\n",
              "    </tr>\n",
              "  </tbody>\n",
              "</table>\n",
              "<p>610 rows × 6 columns</p>\n",
              "</div>"
            ],
            "text/plain": [
              "             Date                    Region  ...  Cured/Discharged      Death\n",
              "18065  03-04-2020  State assignment pending  ...               NaN        NaN\n",
              "21696  01-01-1970                     World  ...               NaN  4979421.0\n",
              "21697  12-03-2020                     World  ...               NaN     4724.0\n",
              "21698  13-03-2020                     World  ...               NaN     5085.0\n",
              "21699  14-03-2020                     World  ...               NaN     5553.0\n",
              "...           ...                       ...  ...               ...        ...\n",
              "22300  08-11-2021                     World  ...               NaN  5047652.0\n",
              "22301  10-11-2021                     World  ...               NaN  5062106.0\n",
              "22302  11-11-2021                     World  ...               NaN  5070244.0\n",
              "22303  12-11-2021                     World  ...               NaN  5077907.0\n",
              "22304  16-11-2021                     World  ...               NaN  5104899.0\n",
              "\n",
              "[610 rows x 6 columns]"
            ]
          },
          "metadata": {},
          "execution_count": 13
        }
      ]
    },
    {
      "cell_type": "code",
      "metadata": {
        "colab": {
          "base_uri": "https://localhost:8080/"
        },
        "id": "Gv2zbo94eB8J",
        "outputId": "42800db8-e696-40da-d078-6776c19ae7df"
      },
      "source": [
        "df_discharged_null = df[df['Cured/Discharged'].isnull()] \n",
        "df_discharged_null['Region'].value_counts()"
      ],
      "execution_count": null,
      "outputs": [
        {
          "output_type": "execute_result",
          "data": {
            "text/plain": [
              "World                       609\n",
              "State assignment pending      1\n",
              "Name: Region, dtype: int64"
            ]
          },
          "metadata": {},
          "execution_count": 14
        }
      ]
    },
    {
      "cell_type": "code",
      "metadata": {
        "id": "NDDx7wW7LIj5"
      },
      "source": [
        "# convert the date column to datetime object\n",
        "df['Date_converted'] = pd.to_datetime(df.Date, dayfirst = True)"
      ],
      "execution_count": null,
      "outputs": []
    },
    {
      "cell_type": "code",
      "metadata": {
        "colab": {
          "base_uri": "https://localhost:8080/"
        },
        "id": "-PKxSguurl5s",
        "outputId": "7ac8b28d-7dd0-4732-b49f-0a454782b18d"
      },
      "source": [
        "df['Date_converted'].dtype"
      ],
      "execution_count": null,
      "outputs": [
        {
          "output_type": "execute_result",
          "data": {
            "text/plain": [
              "dtype('<M8[ns]')"
            ]
          },
          "metadata": {},
          "execution_count": 16
        }
      ]
    },
    {
      "cell_type": "markdown",
      "metadata": {
        "id": "kwzkYaZPHNJw"
      },
      "source": [
        "### Coverting String Date to Datetime format"
      ]
    },
    {
      "cell_type": "code",
      "metadata": {
        "id": "WvuLZIVVr-o7"
      },
      "source": [
        "df['year'] = pd.DatetimeIndex(df['Date_converted']).year\n",
        "df['month'] = pd.DatetimeIndex(df['Date_converted']).month"
      ],
      "execution_count": null,
      "outputs": []
    },
    {
      "cell_type": "code",
      "metadata": {
        "colab": {
          "base_uri": "https://localhost:8080/",
          "height": 206
        },
        "id": "1xlle6OY7pzh",
        "outputId": "c565bcdf-cafd-4181-cdff-f38cfdb1916d"
      },
      "source": [
        "df.head()"
      ],
      "execution_count": null,
      "outputs": [
        {
          "output_type": "execute_result",
          "data": {
            "text/html": [
              "<div>\n",
              "<style scoped>\n",
              "    .dataframe tbody tr th:only-of-type {\n",
              "        vertical-align: middle;\n",
              "    }\n",
              "\n",
              "    .dataframe tbody tr th {\n",
              "        vertical-align: top;\n",
              "    }\n",
              "\n",
              "    .dataframe thead th {\n",
              "        text-align: right;\n",
              "    }\n",
              "</style>\n",
              "<table border=\"1\" class=\"dataframe\">\n",
              "  <thead>\n",
              "    <tr style=\"text-align: right;\">\n",
              "      <th></th>\n",
              "      <th>Date</th>\n",
              "      <th>Region</th>\n",
              "      <th>Confirmed Cases</th>\n",
              "      <th>Active Cases</th>\n",
              "      <th>Cured/Discharged</th>\n",
              "      <th>Death</th>\n",
              "      <th>Date_converted</th>\n",
              "      <th>year</th>\n",
              "      <th>month</th>\n",
              "    </tr>\n",
              "  </thead>\n",
              "  <tbody>\n",
              "    <tr>\n",
              "      <th>0</th>\n",
              "      <td>01-01-1970</td>\n",
              "      <td>India</td>\n",
              "      <td>34260470</td>\n",
              "      <td>161555.0</td>\n",
              "      <td>33641175.0</td>\n",
              "      <td>457740.0</td>\n",
              "      <td>1970-01-01</td>\n",
              "      <td>1970</td>\n",
              "      <td>1</td>\n",
              "    </tr>\n",
              "    <tr>\n",
              "      <th>1</th>\n",
              "      <td>12-03-2020</td>\n",
              "      <td>India</td>\n",
              "      <td>74</td>\n",
              "      <td>71.0</td>\n",
              "      <td>3.0</td>\n",
              "      <td>0.0</td>\n",
              "      <td>2020-03-12</td>\n",
              "      <td>2020</td>\n",
              "      <td>3</td>\n",
              "    </tr>\n",
              "    <tr>\n",
              "      <th>2</th>\n",
              "      <td>13-03-2020</td>\n",
              "      <td>India</td>\n",
              "      <td>75</td>\n",
              "      <td>71.0</td>\n",
              "      <td>3.0</td>\n",
              "      <td>1.0</td>\n",
              "      <td>2020-03-13</td>\n",
              "      <td>2020</td>\n",
              "      <td>3</td>\n",
              "    </tr>\n",
              "    <tr>\n",
              "      <th>3</th>\n",
              "      <td>14-03-2020</td>\n",
              "      <td>India</td>\n",
              "      <td>84</td>\n",
              "      <td>72.0</td>\n",
              "      <td>10.0</td>\n",
              "      <td>2.0</td>\n",
              "      <td>2020-03-14</td>\n",
              "      <td>2020</td>\n",
              "      <td>3</td>\n",
              "    </tr>\n",
              "    <tr>\n",
              "      <th>4</th>\n",
              "      <td>15-03-2020</td>\n",
              "      <td>India</td>\n",
              "      <td>107</td>\n",
              "      <td>95.0</td>\n",
              "      <td>10.0</td>\n",
              "      <td>2.0</td>\n",
              "      <td>2020-03-15</td>\n",
              "      <td>2020</td>\n",
              "      <td>3</td>\n",
              "    </tr>\n",
              "  </tbody>\n",
              "</table>\n",
              "</div>"
            ],
            "text/plain": [
              "         Date Region  Confirmed Cases  ...  Date_converted  year  month\n",
              "0  01-01-1970  India         34260470  ...      1970-01-01  1970      1\n",
              "1  12-03-2020  India               74  ...      2020-03-12  2020      3\n",
              "2  13-03-2020  India               75  ...      2020-03-13  2020      3\n",
              "3  14-03-2020  India               84  ...      2020-03-14  2020      3\n",
              "4  15-03-2020  India              107  ...      2020-03-15  2020      3\n",
              "\n",
              "[5 rows x 9 columns]"
            ]
          },
          "metadata": {},
          "execution_count": 18
        }
      ]
    },
    {
      "cell_type": "markdown",
      "metadata": {
        "id": "AQzEgSnA-wMP"
      },
      "source": [
        "I will divide my dataframe into three parts, one only with states, one for the entire country and one for the world. So now I have three different dataframes for three different analysis"
      ]
    },
    {
      "cell_type": "markdown",
      "metadata": {
        "id": "GRiUtnEnHZHg"
      },
      "source": [
        "### Dividing Dataset into 3 separate Data Frames"
      ]
    },
    {
      "cell_type": "code",
      "metadata": {
        "id": "QEDH2uo-esMk"
      },
      "source": [
        "df_states = df[(df['Region'] != 'India') & (df['Region'] != 'World')]\n",
        "df_india = df[df['Region'] == 'India']\n",
        "df_world = df[df['Region'] == 'World']"
      ],
      "execution_count": null,
      "outputs": []
    },
    {
      "cell_type": "markdown",
      "metadata": {
        "id": "QYMfaAowAU1H"
      },
      "source": [
        "### State Covid Data "
      ]
    },
    {
      "cell_type": "code",
      "metadata": {
        "colab": {
          "base_uri": "https://localhost:8080/",
          "height": 423
        },
        "id": "UDfzXgrfm_wn",
        "outputId": "5c1fcce7-a331-4d45-c7dd-1d1ae34a4548"
      },
      "source": [
        "df_states"
      ],
      "execution_count": null,
      "outputs": [
        {
          "output_type": "execute_result",
          "data": {
            "text/html": [
              "<div>\n",
              "<style scoped>\n",
              "    .dataframe tbody tr th:only-of-type {\n",
              "        vertical-align: middle;\n",
              "    }\n",
              "\n",
              "    .dataframe tbody tr th {\n",
              "        vertical-align: top;\n",
              "    }\n",
              "\n",
              "    .dataframe thead th {\n",
              "        text-align: right;\n",
              "    }\n",
              "</style>\n",
              "<table border=\"1\" class=\"dataframe\">\n",
              "  <thead>\n",
              "    <tr style=\"text-align: right;\">\n",
              "      <th></th>\n",
              "      <th>Date</th>\n",
              "      <th>Region</th>\n",
              "      <th>Confirmed Cases</th>\n",
              "      <th>Active Cases</th>\n",
              "      <th>Cured/Discharged</th>\n",
              "      <th>Death</th>\n",
              "      <th>Date_converted</th>\n",
              "      <th>year</th>\n",
              "      <th>month</th>\n",
              "    </tr>\n",
              "  </thead>\n",
              "  <tbody>\n",
              "    <tr>\n",
              "      <th>600</th>\n",
              "      <td>01-01-1970</td>\n",
              "      <td>Andaman and Nicobar Islands</td>\n",
              "      <td>7651</td>\n",
              "      <td>5.0</td>\n",
              "      <td>7517.0</td>\n",
              "      <td>129.0</td>\n",
              "      <td>1970-01-01</td>\n",
              "      <td>1970</td>\n",
              "      <td>1</td>\n",
              "    </tr>\n",
              "    <tr>\n",
              "      <th>601</th>\n",
              "      <td>27-03-2020</td>\n",
              "      <td>Andaman and Nicobar Islands</td>\n",
              "      <td>1</td>\n",
              "      <td>1.0</td>\n",
              "      <td>0.0</td>\n",
              "      <td>0.0</td>\n",
              "      <td>2020-03-27</td>\n",
              "      <td>2020</td>\n",
              "      <td>3</td>\n",
              "    </tr>\n",
              "    <tr>\n",
              "      <th>602</th>\n",
              "      <td>28-03-2020</td>\n",
              "      <td>Andaman and Nicobar Islands</td>\n",
              "      <td>6</td>\n",
              "      <td>6.0</td>\n",
              "      <td>0.0</td>\n",
              "      <td>0.0</td>\n",
              "      <td>2020-03-28</td>\n",
              "      <td>2020</td>\n",
              "      <td>3</td>\n",
              "    </tr>\n",
              "    <tr>\n",
              "      <th>603</th>\n",
              "      <td>29-03-2020</td>\n",
              "      <td>Andaman and Nicobar Islands</td>\n",
              "      <td>9</td>\n",
              "      <td>9.0</td>\n",
              "      <td>0.0</td>\n",
              "      <td>0.0</td>\n",
              "      <td>2020-03-29</td>\n",
              "      <td>2020</td>\n",
              "      <td>3</td>\n",
              "    </tr>\n",
              "    <tr>\n",
              "      <th>604</th>\n",
              "      <td>30-03-2020</td>\n",
              "      <td>Andaman and Nicobar Islands</td>\n",
              "      <td>9</td>\n",
              "      <td>9.0</td>\n",
              "      <td>0.0</td>\n",
              "      <td>0.0</td>\n",
              "      <td>2020-03-30</td>\n",
              "      <td>2020</td>\n",
              "      <td>3</td>\n",
              "    </tr>\n",
              "    <tr>\n",
              "      <th>...</th>\n",
              "      <td>...</td>\n",
              "      <td>...</td>\n",
              "      <td>...</td>\n",
              "      <td>...</td>\n",
              "      <td>...</td>\n",
              "      <td>...</td>\n",
              "      <td>...</td>\n",
              "      <td>...</td>\n",
              "      <td>...</td>\n",
              "    </tr>\n",
              "    <tr>\n",
              "      <th>21691</th>\n",
              "      <td>12-11-2021</td>\n",
              "      <td>West Bengal</td>\n",
              "      <td>1601586</td>\n",
              "      <td>7973.0</td>\n",
              "      <td>1574333.0</td>\n",
              "      <td>19280.0</td>\n",
              "      <td>2021-11-12</td>\n",
              "      <td>2021</td>\n",
              "      <td>11</td>\n",
              "    </tr>\n",
              "    <tr>\n",
              "      <th>21692</th>\n",
              "      <td>14-11-2021</td>\n",
              "      <td>West Bengal</td>\n",
              "      <td>1603318</td>\n",
              "      <td>8031.0</td>\n",
              "      <td>1575980.0</td>\n",
              "      <td>19307.0</td>\n",
              "      <td>2021-11-14</td>\n",
              "      <td>2021</td>\n",
              "      <td>11</td>\n",
              "    </tr>\n",
              "    <tr>\n",
              "      <th>21693</th>\n",
              "      <td>15-11-2021</td>\n",
              "      <td>West Bengal</td>\n",
              "      <td>1604193</td>\n",
              "      <td>8062.0</td>\n",
              "      <td>1576817.0</td>\n",
              "      <td>19314.0</td>\n",
              "      <td>2021-11-15</td>\n",
              "      <td>2021</td>\n",
              "      <td>11</td>\n",
              "    </tr>\n",
              "    <tr>\n",
              "      <th>21694</th>\n",
              "      <td>16-11-2021</td>\n",
              "      <td>West Bengal</td>\n",
              "      <td>1604975</td>\n",
              "      <td>8047.0</td>\n",
              "      <td>1577609.0</td>\n",
              "      <td>19319.0</td>\n",
              "      <td>2021-11-16</td>\n",
              "      <td>2021</td>\n",
              "      <td>11</td>\n",
              "    </tr>\n",
              "    <tr>\n",
              "      <th>21695</th>\n",
              "      <td>17-11-2021</td>\n",
              "      <td>West Bengal</td>\n",
              "      <td>1605794</td>\n",
              "      <td>8027.0</td>\n",
              "      <td>1578434.0</td>\n",
              "      <td>19333.0</td>\n",
              "      <td>2021-11-17</td>\n",
              "      <td>2021</td>\n",
              "      <td>11</td>\n",
              "    </tr>\n",
              "  </tbody>\n",
              "</table>\n",
              "<p>21096 rows × 9 columns</p>\n",
              "</div>"
            ],
            "text/plain": [
              "             Date                       Region  ...  year  month\n",
              "600    01-01-1970  Andaman and Nicobar Islands  ...  1970      1\n",
              "601    27-03-2020  Andaman and Nicobar Islands  ...  2020      3\n",
              "602    28-03-2020  Andaman and Nicobar Islands  ...  2020      3\n",
              "603    29-03-2020  Andaman and Nicobar Islands  ...  2020      3\n",
              "604    30-03-2020  Andaman and Nicobar Islands  ...  2020      3\n",
              "...           ...                          ...  ...   ...    ...\n",
              "21691  12-11-2021                  West Bengal  ...  2021     11\n",
              "21692  14-11-2021                  West Bengal  ...  2021     11\n",
              "21693  15-11-2021                  West Bengal  ...  2021     11\n",
              "21694  16-11-2021                  West Bengal  ...  2021     11\n",
              "21695  17-11-2021                  West Bengal  ...  2021     11\n",
              "\n",
              "[21096 rows x 9 columns]"
            ]
          },
          "metadata": {},
          "execution_count": 20
        }
      ]
    },
    {
      "cell_type": "code",
      "metadata": {
        "colab": {
          "base_uri": "https://localhost:8080/",
          "height": 206
        },
        "id": "LCnIc_yXAhHt",
        "outputId": "04b0e2b8-bc1b-44cf-92f6-1c1042ad892e"
      },
      "source": [
        "# the date 1/1/1970 in the rows could represent the sum we need of total cases for each state, we need to verify that\n",
        "df_states[df_states['Date_converted'] == '1970-01-01'].head()\n"
      ],
      "execution_count": null,
      "outputs": [
        {
          "output_type": "execute_result",
          "data": {
            "text/html": [
              "<div>\n",
              "<style scoped>\n",
              "    .dataframe tbody tr th:only-of-type {\n",
              "        vertical-align: middle;\n",
              "    }\n",
              "\n",
              "    .dataframe tbody tr th {\n",
              "        vertical-align: top;\n",
              "    }\n",
              "\n",
              "    .dataframe thead th {\n",
              "        text-align: right;\n",
              "    }\n",
              "</style>\n",
              "<table border=\"1\" class=\"dataframe\">\n",
              "  <thead>\n",
              "    <tr style=\"text-align: right;\">\n",
              "      <th></th>\n",
              "      <th>Date</th>\n",
              "      <th>Region</th>\n",
              "      <th>Confirmed Cases</th>\n",
              "      <th>Active Cases</th>\n",
              "      <th>Cured/Discharged</th>\n",
              "      <th>Death</th>\n",
              "      <th>Date_converted</th>\n",
              "      <th>year</th>\n",
              "      <th>month</th>\n",
              "    </tr>\n",
              "  </thead>\n",
              "  <tbody>\n",
              "    <tr>\n",
              "      <th>600</th>\n",
              "      <td>01-01-1970</td>\n",
              "      <td>Andaman and Nicobar Islands</td>\n",
              "      <td>7651</td>\n",
              "      <td>5.0</td>\n",
              "      <td>7517.0</td>\n",
              "      <td>129.0</td>\n",
              "      <td>1970-01-01</td>\n",
              "      <td>1970</td>\n",
              "      <td>1</td>\n",
              "    </tr>\n",
              "    <tr>\n",
              "      <th>1185</th>\n",
              "      <td>01-01-1970</td>\n",
              "      <td>Andhra Pradesh</td>\n",
              "      <td>2065716</td>\n",
              "      <td>4837.0</td>\n",
              "      <td>2046512.0</td>\n",
              "      <td>14367.0</td>\n",
              "      <td>1970-01-01</td>\n",
              "      <td>1970</td>\n",
              "      <td>1</td>\n",
              "    </tr>\n",
              "    <tr>\n",
              "      <th>1785</th>\n",
              "      <td>01-01-1970</td>\n",
              "      <td>Arunachal Pradesh</td>\n",
              "      <td>55143</td>\n",
              "      <td>108.0</td>\n",
              "      <td>54755.0</td>\n",
              "      <td>280.0</td>\n",
              "      <td>1970-01-01</td>\n",
              "      <td>1970</td>\n",
              "      <td>1</td>\n",
              "    </tr>\n",
              "    <tr>\n",
              "      <th>2363</th>\n",
              "      <td>01-01-1970</td>\n",
              "      <td>Assam</td>\n",
              "      <td>610150</td>\n",
              "      <td>3791.0</td>\n",
              "      <td>600367.0</td>\n",
              "      <td>5992.0</td>\n",
              "      <td>1970-01-01</td>\n",
              "      <td>1970</td>\n",
              "      <td>1</td>\n",
              "    </tr>\n",
              "    <tr>\n",
              "      <th>2942</th>\n",
              "      <td>01-01-1970</td>\n",
              "      <td>Bihar</td>\n",
              "      <td>726085</td>\n",
              "      <td>45.0</td>\n",
              "      <td>716379.0</td>\n",
              "      <td>9661.0</td>\n",
              "      <td>1970-01-01</td>\n",
              "      <td>1970</td>\n",
              "      <td>1</td>\n",
              "    </tr>\n",
              "  </tbody>\n",
              "</table>\n",
              "</div>"
            ],
            "text/plain": [
              "            Date                       Region  ...  year  month\n",
              "600   01-01-1970  Andaman and Nicobar Islands  ...  1970      1\n",
              "1185  01-01-1970               Andhra Pradesh  ...  1970      1\n",
              "1785  01-01-1970            Arunachal Pradesh  ...  1970      1\n",
              "2363  01-01-1970                        Assam  ...  1970      1\n",
              "2942  01-01-1970                        Bihar  ...  1970      1\n",
              "\n",
              "[5 rows x 9 columns]"
            ]
          },
          "metadata": {},
          "execution_count": 21
        }
      ]
    },
    {
      "cell_type": "code",
      "metadata": {
        "colab": {
          "base_uri": "https://localhost:8080/",
          "height": 206
        },
        "id": "PjWzOUya-JIF",
        "outputId": "81592353-d3b8-40c5-81f9-b0a7ae38a67f"
      },
      "source": [
        "df_state_tot = df_states[df_states['Date_converted'] == '1970-01-01']\n",
        "df_state_tot.rename(columns = {'Region': 'Name of State / UT'}, inplace = True)\n",
        "df_state_tot.head()"
      ],
      "execution_count": null,
      "outputs": [
        {
          "output_type": "execute_result",
          "data": {
            "text/html": [
              "<div>\n",
              "<style scoped>\n",
              "    .dataframe tbody tr th:only-of-type {\n",
              "        vertical-align: middle;\n",
              "    }\n",
              "\n",
              "    .dataframe tbody tr th {\n",
              "        vertical-align: top;\n",
              "    }\n",
              "\n",
              "    .dataframe thead th {\n",
              "        text-align: right;\n",
              "    }\n",
              "</style>\n",
              "<table border=\"1\" class=\"dataframe\">\n",
              "  <thead>\n",
              "    <tr style=\"text-align: right;\">\n",
              "      <th></th>\n",
              "      <th>Date</th>\n",
              "      <th>Name of State / UT</th>\n",
              "      <th>Confirmed Cases</th>\n",
              "      <th>Active Cases</th>\n",
              "      <th>Cured/Discharged</th>\n",
              "      <th>Death</th>\n",
              "      <th>Date_converted</th>\n",
              "      <th>year</th>\n",
              "      <th>month</th>\n",
              "    </tr>\n",
              "  </thead>\n",
              "  <tbody>\n",
              "    <tr>\n",
              "      <th>600</th>\n",
              "      <td>01-01-1970</td>\n",
              "      <td>Andaman and Nicobar Islands</td>\n",
              "      <td>7651</td>\n",
              "      <td>5.0</td>\n",
              "      <td>7517.0</td>\n",
              "      <td>129.0</td>\n",
              "      <td>1970-01-01</td>\n",
              "      <td>1970</td>\n",
              "      <td>1</td>\n",
              "    </tr>\n",
              "    <tr>\n",
              "      <th>1185</th>\n",
              "      <td>01-01-1970</td>\n",
              "      <td>Andhra Pradesh</td>\n",
              "      <td>2065716</td>\n",
              "      <td>4837.0</td>\n",
              "      <td>2046512.0</td>\n",
              "      <td>14367.0</td>\n",
              "      <td>1970-01-01</td>\n",
              "      <td>1970</td>\n",
              "      <td>1</td>\n",
              "    </tr>\n",
              "    <tr>\n",
              "      <th>1785</th>\n",
              "      <td>01-01-1970</td>\n",
              "      <td>Arunachal Pradesh</td>\n",
              "      <td>55143</td>\n",
              "      <td>108.0</td>\n",
              "      <td>54755.0</td>\n",
              "      <td>280.0</td>\n",
              "      <td>1970-01-01</td>\n",
              "      <td>1970</td>\n",
              "      <td>1</td>\n",
              "    </tr>\n",
              "    <tr>\n",
              "      <th>2363</th>\n",
              "      <td>01-01-1970</td>\n",
              "      <td>Assam</td>\n",
              "      <td>610150</td>\n",
              "      <td>3791.0</td>\n",
              "      <td>600367.0</td>\n",
              "      <td>5992.0</td>\n",
              "      <td>1970-01-01</td>\n",
              "      <td>1970</td>\n",
              "      <td>1</td>\n",
              "    </tr>\n",
              "    <tr>\n",
              "      <th>2942</th>\n",
              "      <td>01-01-1970</td>\n",
              "      <td>Bihar</td>\n",
              "      <td>726085</td>\n",
              "      <td>45.0</td>\n",
              "      <td>716379.0</td>\n",
              "      <td>9661.0</td>\n",
              "      <td>1970-01-01</td>\n",
              "      <td>1970</td>\n",
              "      <td>1</td>\n",
              "    </tr>\n",
              "  </tbody>\n",
              "</table>\n",
              "</div>"
            ],
            "text/plain": [
              "            Date           Name of State / UT  ...  year  month\n",
              "600   01-01-1970  Andaman and Nicobar Islands  ...  1970      1\n",
              "1185  01-01-1970               Andhra Pradesh  ...  1970      1\n",
              "1785  01-01-1970            Arunachal Pradesh  ...  1970      1\n",
              "2363  01-01-1970                        Assam  ...  1970      1\n",
              "2942  01-01-1970                        Bihar  ...  1970      1\n",
              "\n",
              "[5 rows x 9 columns]"
            ]
          },
          "metadata": {},
          "execution_count": 22
        }
      ]
    },
    {
      "cell_type": "markdown",
      "metadata": {
        "id": "PksEZTlgLKKN"
      },
      "source": [
        "Upon comparing with the actual data i figured out these are the cumulative values over the time period from which the data was taken uptill 25 September 2021."
      ]
    },
    {
      "cell_type": "markdown",
      "metadata": {
        "id": "-sFkNhqqNCxa"
      },
      "source": [
        "**Data Visualization**"
      ]
    },
    {
      "cell_type": "markdown",
      "metadata": {
        "id": "vsqBxo1ydriK"
      },
      "source": [
        "## Visualizing Total Covid Cases on the Map of India"
      ]
    },
    {
      "cell_type": "code",
      "metadata": {
        "id": "-BREgb1O47W1"
      },
      "source": [
        "#@title\n",
        "# coordinates of India states and union territories\n",
        "india_coord = pd.read_excel('/content/Indian Coordinates.xlsx')"
      ],
      "execution_count": null,
      "outputs": []
    },
    {
      "cell_type": "code",
      "metadata": {
        "colab": {
          "base_uri": "https://localhost:8080/",
          "height": 866
        },
        "id": "6ZpcTB8W9ZZX",
        "outputId": "47e67de4-dea8-4d09-f695-b532ab2578de"
      },
      "source": [
        "#@title\n",
        "df_full = pd.merge(india_coord, df_state_tot, on = 'Name of State / UT')\n",
        "map = folium.Map(location = [20,70], zoom_start=4, tiles = 'Stamenterrain')\n",
        "\n",
        "for lat, lon, value, name in zip(df_full['Latitude'], df_full['Longitude'], df_full['Confirmed Cases'], df_full['Name of State / UT']):\n",
        "    folium.CircleMarker([lat, lon], radius = value/100000, color = 'crimson', fill_color='red', ).add_to(map)\n",
        "\n",
        "map"
      ],
      "execution_count": null,
      "outputs": [
        {
          "output_type": "execute_result",
          "data": {
            "text/html": [
              "<div style=\"width:100%;\"><div style=\"position:relative;width:100%;height:0;padding-bottom:60%;\"><span style=\"color:#565656\">Make this Notebook Trusted to load map: File -> Trust Notebook</span><iframe src=\"about:blank\" style=\"position:absolute;width:100%;height:100%;left:0;top:0;border:none !important;\" data-html=%3C%21DOCTYPE%20html%3E%0A%3Chead%3E%20%20%20%20%0A%20%20%20%20%3Cmeta%20http-equiv%3D%22content-type%22%20content%3D%22text/html%3B%20charset%3DUTF-8%22%20/%3E%0A%20%20%20%20%3Cscript%3EL_PREFER_CANVAS%3Dfalse%3B%20L_NO_TOUCH%3Dfalse%3B%20L_DISABLE_3D%3Dfalse%3B%3C/script%3E%0A%20%20%20%20%3Cscript%20src%3D%22https%3A//cdn.jsdelivr.net/npm/leaflet%401.4.0/dist/leaflet.js%22%3E%3C/script%3E%0A%20%20%20%20%3Cscript%20src%3D%22https%3A//code.jquery.com/jquery-1.12.4.min.js%22%3E%3C/script%3E%0A%20%20%20%20%3Cscript%20src%3D%22https%3A//maxcdn.bootstrapcdn.com/bootstrap/3.2.0/js/bootstrap.min.js%22%3E%3C/script%3E%0A%20%20%20%20%3Cscript%20src%3D%22https%3A//cdnjs.cloudflare.com/ajax/libs/Leaflet.awesome-markers/2.0.2/leaflet.awesome-markers.js%22%3E%3C/script%3E%0A%20%20%20%20%3Clink%20rel%3D%22stylesheet%22%20href%3D%22https%3A//cdn.jsdelivr.net/npm/leaflet%401.4.0/dist/leaflet.css%22/%3E%0A%20%20%20%20%3Clink%20rel%3D%22stylesheet%22%20href%3D%22https%3A//maxcdn.bootstrapcdn.com/bootstrap/3.2.0/css/bootstrap.min.css%22/%3E%0A%20%20%20%20%3Clink%20rel%3D%22stylesheet%22%20href%3D%22https%3A//maxcdn.bootstrapcdn.com/bootstrap/3.2.0/css/bootstrap-theme.min.css%22/%3E%0A%20%20%20%20%3Clink%20rel%3D%22stylesheet%22%20href%3D%22https%3A//maxcdn.bootstrapcdn.com/font-awesome/4.6.3/css/font-awesome.min.css%22/%3E%0A%20%20%20%20%3Clink%20rel%3D%22stylesheet%22%20href%3D%22https%3A//cdnjs.cloudflare.com/ajax/libs/Leaflet.awesome-markers/2.0.2/leaflet.awesome-markers.css%22/%3E%0A%20%20%20%20%3Clink%20rel%3D%22stylesheet%22%20href%3D%22https%3A//rawcdn.githack.com/python-visualization/folium/master/folium/templates/leaflet.awesome.rotate.css%22/%3E%0A%20%20%20%20%3Cstyle%3Ehtml%2C%20body%20%7Bwidth%3A%20100%25%3Bheight%3A%20100%25%3Bmargin%3A%200%3Bpadding%3A%200%3B%7D%3C/style%3E%0A%20%20%20%20%3Cstyle%3E%23map%20%7Bposition%3Aabsolute%3Btop%3A0%3Bbottom%3A0%3Bright%3A0%3Bleft%3A0%3B%7D%3C/style%3E%0A%20%20%20%20%0A%20%20%20%20%3Cmeta%20name%3D%22viewport%22%20content%3D%22width%3Ddevice-width%2C%0A%20%20%20%20%20%20%20%20initial-scale%3D1.0%2C%20maximum-scale%3D1.0%2C%20user-scalable%3Dno%22%20/%3E%0A%20%20%20%20%3Cstyle%3E%23map_659e4092c0704023815dde7a1297a438%20%7B%0A%20%20%20%20%20%20%20%20position%3A%20relative%3B%0A%20%20%20%20%20%20%20%20width%3A%20100.0%25%3B%0A%20%20%20%20%20%20%20%20height%3A%20100.0%25%3B%0A%20%20%20%20%20%20%20%20left%3A%200.0%25%3B%0A%20%20%20%20%20%20%20%20top%3A%200.0%25%3B%0A%20%20%20%20%20%20%20%20%7D%0A%20%20%20%20%3C/style%3E%0A%3C/head%3E%0A%3Cbody%3E%20%20%20%20%0A%20%20%20%20%0A%20%20%20%20%3Cdiv%20class%3D%22folium-map%22%20id%3D%22map_659e4092c0704023815dde7a1297a438%22%20%3E%3C/div%3E%0A%3C/body%3E%0A%3Cscript%3E%20%20%20%20%0A%20%20%20%20%0A%20%20%20%20%0A%20%20%20%20%20%20%20%20var%20bounds%20%3D%20null%3B%0A%20%20%20%20%0A%0A%20%20%20%20var%20map_659e4092c0704023815dde7a1297a438%20%3D%20L.map%28%0A%20%20%20%20%20%20%20%20%27map_659e4092c0704023815dde7a1297a438%27%2C%20%7B%0A%20%20%20%20%20%20%20%20center%3A%20%5B20%2C%2070%5D%2C%0A%20%20%20%20%20%20%20%20zoom%3A%204%2C%0A%20%20%20%20%20%20%20%20maxBounds%3A%20bounds%2C%0A%20%20%20%20%20%20%20%20layers%3A%20%5B%5D%2C%0A%20%20%20%20%20%20%20%20worldCopyJump%3A%20false%2C%0A%20%20%20%20%20%20%20%20crs%3A%20L.CRS.EPSG3857%2C%0A%20%20%20%20%20%20%20%20zoomControl%3A%20true%2C%0A%20%20%20%20%20%20%20%20%7D%29%3B%0A%0A%0A%20%20%20%20%0A%20%20%20%20var%20tile_layer_6c8ca5ace9fd45598155517986109419%20%3D%20L.tileLayer%28%0A%20%20%20%20%20%20%20%20%27https%3A//stamen-tiles-%7Bs%7D.a.ssl.fastly.net/terrain/%7Bz%7D/%7Bx%7D/%7By%7D.jpg%27%2C%0A%20%20%20%20%20%20%20%20%7B%0A%20%20%20%20%20%20%20%20%22attribution%22%3A%20null%2C%0A%20%20%20%20%20%20%20%20%22detectRetina%22%3A%20false%2C%0A%20%20%20%20%20%20%20%20%22maxNativeZoom%22%3A%2018%2C%0A%20%20%20%20%20%20%20%20%22maxZoom%22%3A%2018%2C%0A%20%20%20%20%20%20%20%20%22minZoom%22%3A%200%2C%0A%20%20%20%20%20%20%20%20%22noWrap%22%3A%20false%2C%0A%20%20%20%20%20%20%20%20%22opacity%22%3A%201%2C%0A%20%20%20%20%20%20%20%20%22subdomains%22%3A%20%22abc%22%2C%0A%20%20%20%20%20%20%20%20%22tms%22%3A%20false%0A%7D%29.addTo%28map_659e4092c0704023815dde7a1297a438%29%3B%0A%20%20%20%20%0A%20%20%20%20%20%20%20%20%20%20%20%20var%20circle_marker_50507fb48bc94d6a85200c2f0aab55dc%20%3D%20L.circleMarker%28%0A%20%20%20%20%20%20%20%20%20%20%20%20%20%20%20%20%5B11.66702557%2C%2092.73598262%5D%2C%0A%20%20%20%20%20%20%20%20%20%20%20%20%20%20%20%20%7B%0A%20%20%22bubblingMouseEvents%22%3A%20true%2C%0A%20%20%22color%22%3A%20%22crimson%22%2C%0A%20%20%22dashArray%22%3A%20null%2C%0A%20%20%22dashOffset%22%3A%20null%2C%0A%20%20%22fill%22%3A%20true%2C%0A%20%20%22fillColor%22%3A%20%22red%22%2C%0A%20%20%22fillOpacity%22%3A%200.2%2C%0A%20%20%22fillRule%22%3A%20%22evenodd%22%2C%0A%20%20%22lineCap%22%3A%20%22round%22%2C%0A%20%20%22lineJoin%22%3A%20%22round%22%2C%0A%20%20%22opacity%22%3A%201.0%2C%0A%20%20%22radius%22%3A%200.07651%2C%0A%20%20%22stroke%22%3A%20true%2C%0A%20%20%22weight%22%3A%203%0A%7D%0A%20%20%20%20%20%20%20%20%20%20%20%20%20%20%20%20%29%0A%20%20%20%20%20%20%20%20%20%20%20%20%20%20%20%20.addTo%28map_659e4092c0704023815dde7a1297a438%29%3B%0A%20%20%20%20%20%20%20%20%20%20%20%20%0A%20%20%20%20%0A%20%20%20%20%20%20%20%20%20%20%20%20var%20circle_marker_ca2b6349073048c5844c4c56cb9c1c9c%20%3D%20L.circleMarker%28%0A%20%20%20%20%20%20%20%20%20%20%20%20%20%20%20%20%5B14.7504291%2C%2078.57002559%5D%2C%0A%20%20%20%20%20%20%20%20%20%20%20%20%20%20%20%20%7B%0A%20%20%22bubblingMouseEvents%22%3A%20true%2C%0A%20%20%22color%22%3A%20%22crimson%22%2C%0A%20%20%22dashArray%22%3A%20null%2C%0A%20%20%22dashOffset%22%3A%20null%2C%0A%20%20%22fill%22%3A%20true%2C%0A%20%20%22fillColor%22%3A%20%22red%22%2C%0A%20%20%22fillOpacity%22%3A%200.2%2C%0A%20%20%22fillRule%22%3A%20%22evenodd%22%2C%0A%20%20%22lineCap%22%3A%20%22round%22%2C%0A%20%20%22lineJoin%22%3A%20%22round%22%2C%0A%20%20%22opacity%22%3A%201.0%2C%0A%20%20%22radius%22%3A%2020.65716%2C%0A%20%20%22stroke%22%3A%20true%2C%0A%20%20%22weight%22%3A%203%0A%7D%0A%20%20%20%20%20%20%20%20%20%20%20%20%20%20%20%20%29%0A%20%20%20%20%20%20%20%20%20%20%20%20%20%20%20%20.addTo%28map_659e4092c0704023815dde7a1297a438%29%3B%0A%20%20%20%20%20%20%20%20%20%20%20%20%0A%20%20%20%20%0A%20%20%20%20%20%20%20%20%20%20%20%20var%20circle_marker_9546e718428a4d5685e6b0571acac01d%20%3D%20L.circleMarker%28%0A%20%20%20%20%20%20%20%20%20%20%20%20%20%20%20%20%5B20.26657819%2C%2073.0166178%5D%2C%0A%20%20%20%20%20%20%20%20%20%20%20%20%20%20%20%20%7B%0A%20%20%22bubblingMouseEvents%22%3A%20true%2C%0A%20%20%22color%22%3A%20%22crimson%22%2C%0A%20%20%22dashArray%22%3A%20null%2C%0A%20%20%22dashOffset%22%3A%20null%2C%0A%20%20%22fill%22%3A%20true%2C%0A%20%20%22fillColor%22%3A%20%22red%22%2C%0A%20%20%22fillOpacity%22%3A%200.2%2C%0A%20%20%22fillRule%22%3A%20%22evenodd%22%2C%0A%20%20%22lineCap%22%3A%20%22round%22%2C%0A%20%20%22lineJoin%22%3A%20%22round%22%2C%0A%20%20%22opacity%22%3A%201.0%2C%0A%20%20%22radius%22%3A%200.10682%2C%0A%20%20%22stroke%22%3A%20true%2C%0A%20%20%22weight%22%3A%203%0A%7D%0A%20%20%20%20%20%20%20%20%20%20%20%20%20%20%20%20%29%0A%20%20%20%20%20%20%20%20%20%20%20%20%20%20%20%20.addTo%28map_659e4092c0704023815dde7a1297a438%29%3B%0A%20%20%20%20%20%20%20%20%20%20%20%20%0A%20%20%20%20%0A%20%20%20%20%20%20%20%20%20%20%20%20var%20circle_marker_76e5f3a61e574f0eb4490776311d6cbe%20%3D%20L.circleMarker%28%0A%20%20%20%20%20%20%20%20%20%20%20%20%20%20%20%20%5B28.6699929%2C%2077.23000403%5D%2C%0A%20%20%20%20%20%20%20%20%20%20%20%20%20%20%20%20%7B%0A%20%20%22bubblingMouseEvents%22%3A%20true%2C%0A%20%20%22color%22%3A%20%22crimson%22%2C%0A%20%20%22dashArray%22%3A%20null%2C%0A%20%20%22dashOffset%22%3A%20null%2C%0A%20%20%22fill%22%3A%20true%2C%0A%20%20%22fillColor%22%3A%20%22red%22%2C%0A%20%20%22fillOpacity%22%3A%200.2%2C%0A%20%20%22fillRule%22%3A%20%22evenodd%22%2C%0A%20%20%22lineCap%22%3A%20%22round%22%2C%0A%20%20%22lineJoin%22%3A%20%22round%22%2C%0A%20%20%22opacity%22%3A%201.0%2C%0A%20%20%22radius%22%3A%2014.39788%2C%0A%20%20%22stroke%22%3A%20true%2C%0A%20%20%22weight%22%3A%203%0A%7D%0A%20%20%20%20%20%20%20%20%20%20%20%20%20%20%20%20%29%0A%20%20%20%20%20%20%20%20%20%20%20%20%20%20%20%20.addTo%28map_659e4092c0704023815dde7a1297a438%29%3B%0A%20%20%20%20%20%20%20%20%20%20%20%20%0A%20%20%20%20%0A%20%20%20%20%20%20%20%20%20%20%20%20var%20circle_marker_ad6cc2eb08114aabbbe950a4990bd9e9%20%3D%20L.circleMarker%28%0A%20%20%20%20%20%20%20%20%20%20%20%20%20%20%20%20%5B22.2587%2C%2071.1924%5D%2C%0A%20%20%20%20%20%20%20%20%20%20%20%20%20%20%20%20%7B%0A%20%20%22bubblingMouseEvents%22%3A%20true%2C%0A%20%20%22color%22%3A%20%22crimson%22%2C%0A%20%20%22dashArray%22%3A%20null%2C%0A%20%20%22dashOffset%22%3A%20null%2C%0A%20%20%22fill%22%3A%20true%2C%0A%20%20%22fillColor%22%3A%20%22red%22%2C%0A%20%20%22fillOpacity%22%3A%200.2%2C%0A%20%20%22fillRule%22%3A%20%22evenodd%22%2C%0A%20%20%22lineCap%22%3A%20%22round%22%2C%0A%20%20%22lineJoin%22%3A%20%22round%22%2C%0A%20%20%22opacity%22%3A%201.0%2C%0A%20%20%22radius%22%3A%208.26526%2C%0A%20%20%22stroke%22%3A%20true%2C%0A%20%20%22weight%22%3A%203%0A%7D%0A%20%20%20%20%20%20%20%20%20%20%20%20%20%20%20%20%29%0A%20%20%20%20%20%20%20%20%20%20%20%20%20%20%20%20.addTo%28map_659e4092c0704023815dde7a1297a438%29%3B%0A%20%20%20%20%20%20%20%20%20%20%20%20%0A%20%20%20%20%0A%20%20%20%20%20%20%20%20%20%20%20%20var%20circle_marker_6685aadb51234476888d81d3d8c6fbf9%20%3D%20L.circleMarker%28%0A%20%20%20%20%20%20%20%20%20%20%20%20%20%20%20%20%5B28.45000633%2C%2077.01999101%5D%2C%0A%20%20%20%20%20%20%20%20%20%20%20%20%20%20%20%20%7B%0A%20%20%22bubblingMouseEvents%22%3A%20true%2C%0A%20%20%22color%22%3A%20%22crimson%22%2C%0A%20%20%22dashArray%22%3A%20null%2C%0A%20%20%22dashOffset%22%3A%20null%2C%0A%20%20%22fill%22%3A%20true%2C%0A%20%20%22fillColor%22%3A%20%22red%22%2C%0A%20%20%22fillOpacity%22%3A%200.2%2C%0A%20%20%22fillRule%22%3A%20%22evenodd%22%2C%0A%20%20%22lineCap%22%3A%20%22round%22%2C%0A%20%20%22lineJoin%22%3A%20%22round%22%2C%0A%20%20%22opacity%22%3A%201.0%2C%0A%20%20%22radius%22%3A%207.71229%2C%0A%20%20%22stroke%22%3A%20true%2C%0A%20%20%22weight%22%3A%203%0A%7D%0A%20%20%20%20%20%20%20%20%20%20%20%20%20%20%20%20%29%0A%20%20%20%20%20%20%20%20%20%20%20%20%20%20%20%20.addTo%28map_659e4092c0704023815dde7a1297a438%29%3B%0A%20%20%20%20%20%20%20%20%20%20%20%20%0A%20%20%20%20%0A%20%20%20%20%20%20%20%20%20%20%20%20var%20circle_marker_7a61706f0a9a4789a20207aa38561457%20%3D%20L.circleMarker%28%0A%20%20%20%20%20%20%20%20%20%20%20%20%20%20%20%20%5B33.45%2C%2076.24%5D%2C%0A%20%20%20%20%20%20%20%20%20%20%20%20%20%20%20%20%7B%0A%20%20%22bubblingMouseEvents%22%3A%20true%2C%0A%20%20%22color%22%3A%20%22crimson%22%2C%0A%20%20%22dashArray%22%3A%20null%2C%0A%20%20%22dashOffset%22%3A%20null%2C%0A%20%20%22fill%22%3A%20true%2C%0A%20%20%22fillColor%22%3A%20%22red%22%2C%0A%20%20%22fillOpacity%22%3A%200.2%2C%0A%20%20%22fillRule%22%3A%20%22evenodd%22%2C%0A%20%20%22lineCap%22%3A%20%22round%22%2C%0A%20%20%22lineJoin%22%3A%20%22round%22%2C%0A%20%20%22opacity%22%3A%201.0%2C%0A%20%20%22radius%22%3A%203.32053%2C%0A%20%20%22stroke%22%3A%20true%2C%0A%20%20%22weight%22%3A%203%0A%7D%0A%20%20%20%20%20%20%20%20%20%20%20%20%20%20%20%20%29%0A%20%20%20%20%20%20%20%20%20%20%20%20%20%20%20%20.addTo%28map_659e4092c0704023815dde7a1297a438%29%3B%0A%20%20%20%20%20%20%20%20%20%20%20%20%0A%20%20%20%20%0A%20%20%20%20%20%20%20%20%20%20%20%20var%20circle_marker_09289cd6a7e348e0a3de7b9ccc212a53%20%3D%20L.circleMarker%28%0A%20%20%20%20%20%20%20%20%20%20%20%20%20%20%20%20%5B12.57038129%2C%2076.91999711%5D%2C%0A%20%20%20%20%20%20%20%20%20%20%20%20%20%20%20%20%7B%0A%20%20%22bubblingMouseEvents%22%3A%20true%2C%0A%20%20%22color%22%3A%20%22crimson%22%2C%0A%20%20%22dashArray%22%3A%20null%2C%0A%20%20%22dashOffset%22%3A%20null%2C%0A%20%20%22fill%22%3A%20true%2C%0A%20%20%22fillColor%22%3A%20%22red%22%2C%0A%20%20%22fillOpacity%22%3A%200.2%2C%0A%20%20%22fillRule%22%3A%20%22evenodd%22%2C%0A%20%20%22lineCap%22%3A%20%22round%22%2C%0A%20%20%22lineJoin%22%3A%20%22round%22%2C%0A%20%20%22opacity%22%3A%201.0%2C%0A%20%20%22radius%22%3A%2029.87694%2C%0A%20%20%22stroke%22%3A%20true%2C%0A%20%20%22weight%22%3A%203%0A%7D%0A%20%20%20%20%20%20%20%20%20%20%20%20%20%20%20%20%29%0A%20%20%20%20%20%20%20%20%20%20%20%20%20%20%20%20.addTo%28map_659e4092c0704023815dde7a1297a438%29%3B%0A%20%20%20%20%20%20%20%20%20%20%20%20%0A%20%20%20%20%0A%20%20%20%20%20%20%20%20%20%20%20%20var%20circle_marker_6bc0efee974843ccbca88b2f8038de28%20%3D%20L.circleMarker%28%0A%20%20%20%20%20%20%20%20%20%20%20%20%20%20%20%20%5B8.900372741%2C%2076.56999263%5D%2C%0A%20%20%20%20%20%20%20%20%20%20%20%20%20%20%20%20%7B%0A%20%20%22bubblingMouseEvents%22%3A%20true%2C%0A%20%20%22color%22%3A%20%22crimson%22%2C%0A%20%20%22dashArray%22%3A%20null%2C%0A%20%20%22dashOffset%22%3A%20null%2C%0A%20%20%22fill%22%3A%20true%2C%0A%20%20%22fillColor%22%3A%20%22red%22%2C%0A%20%20%22fillOpacity%22%3A%200.2%2C%0A%20%20%22fillRule%22%3A%20%22evenodd%22%2C%0A%20%20%22lineCap%22%3A%20%22round%22%2C%0A%20%20%22lineJoin%22%3A%20%22round%22%2C%0A%20%20%22opacity%22%3A%201.0%2C%0A%20%20%22radius%22%3A%2049.54063%2C%0A%20%20%22stroke%22%3A%20true%2C%0A%20%20%22weight%22%3A%203%0A%7D%0A%20%20%20%20%20%20%20%20%20%20%20%20%20%20%20%20%29%0A%20%20%20%20%20%20%20%20%20%20%20%20%20%20%20%20.addTo%28map_659e4092c0704023815dde7a1297a438%29%3B%0A%20%20%20%20%20%20%20%20%20%20%20%20%0A%20%20%20%20%0A%20%20%20%20%20%20%20%20%20%20%20%20var%20circle_marker_175a0c3d87574ebb8005d90088ac7b7d%20%3D%20L.circleMarker%28%0A%20%20%20%20%20%20%20%20%20%20%20%20%20%20%20%20%5B34.1%2C%2077.34%5D%2C%0A%20%20%20%20%20%20%20%20%20%20%20%20%20%20%20%20%7B%0A%20%20%22bubblingMouseEvents%22%3A%20true%2C%0A%20%20%22color%22%3A%20%22crimson%22%2C%0A%20%20%22dashArray%22%3A%20null%2C%0A%20%20%22dashOffset%22%3A%20null%2C%0A%20%20%22fill%22%3A%20true%2C%0A%20%20%22fillColor%22%3A%20%22red%22%2C%0A%20%20%22fillOpacity%22%3A%200.2%2C%0A%20%20%22fillRule%22%3A%20%22evenodd%22%2C%0A%20%20%22lineCap%22%3A%20%22round%22%2C%0A%20%20%22lineJoin%22%3A%20%22round%22%2C%0A%20%20%22opacity%22%3A%201.0%2C%0A%20%20%22radius%22%3A%200.20941%2C%0A%20%20%22stroke%22%3A%20true%2C%0A%20%20%22weight%22%3A%203%0A%7D%0A%20%20%20%20%20%20%20%20%20%20%20%20%20%20%20%20%29%0A%20%20%20%20%20%20%20%20%20%20%20%20%20%20%20%20.addTo%28map_659e4092c0704023815dde7a1297a438%29%3B%0A%20%20%20%20%20%20%20%20%20%20%20%20%0A%20%20%20%20%0A%20%20%20%20%20%20%20%20%20%20%20%20var%20circle_marker_9abe632fa0834e3587fd1818816f8aba%20%3D%20L.circleMarker%28%0A%20%20%20%20%20%20%20%20%20%20%20%20%20%20%20%20%5B31.51997398%2C%2075.98000281%5D%2C%0A%20%20%20%20%20%20%20%20%20%20%20%20%20%20%20%20%7B%0A%20%20%22bubblingMouseEvents%22%3A%20true%2C%0A%20%20%22color%22%3A%20%22crimson%22%2C%0A%20%20%22dashArray%22%3A%20null%2C%0A%20%20%22dashOffset%22%3A%20null%2C%0A%20%20%22fill%22%3A%20true%2C%0A%20%20%22fillColor%22%3A%20%22red%22%2C%0A%20%20%22fillOpacity%22%3A%200.2%2C%0A%20%20%22fillRule%22%3A%20%22evenodd%22%2C%0A%20%20%22lineCap%22%3A%20%22round%22%2C%0A%20%20%22lineJoin%22%3A%20%22round%22%2C%0A%20%20%22opacity%22%3A%201.0%2C%0A%20%20%22radius%22%3A%206.02349%2C%0A%20%20%22stroke%22%3A%20true%2C%0A%20%20%22weight%22%3A%203%0A%7D%0A%20%20%20%20%20%20%20%20%20%20%20%20%20%20%20%20%29%0A%20%20%20%20%20%20%20%20%20%20%20%20%20%20%20%20.addTo%28map_659e4092c0704023815dde7a1297a438%29%3B%0A%20%20%20%20%20%20%20%20%20%20%20%20%0A%20%20%20%20%0A%20%20%20%20%20%20%20%20%20%20%20%20var%20circle_marker_62167b8df91f48e3b6fde0701da30f57%20%3D%20L.circleMarker%28%0A%20%20%20%20%20%20%20%20%20%20%20%20%20%20%20%20%5B26.44999921%2C%2074.63998124%5D%2C%0A%20%20%20%20%20%20%20%20%20%20%20%20%20%20%20%20%7B%0A%20%20%22bubblingMouseEvents%22%3A%20true%2C%0A%20%20%22color%22%3A%20%22crimson%22%2C%0A%20%20%22dashArray%22%3A%20null%2C%0A%20%20%22dashOffset%22%3A%20null%2C%0A%20%20%22fill%22%3A%20true%2C%0A%20%20%22fillColor%22%3A%20%22red%22%2C%0A%20%20%22fillOpacity%22%3A%200.2%2C%0A%20%20%22fillRule%22%3A%20%22evenodd%22%2C%0A%20%20%22lineCap%22%3A%20%22round%22%2C%0A%20%20%22lineJoin%22%3A%20%22round%22%2C%0A%20%20%22opacity%22%3A%201.0%2C%0A%20%20%22radius%22%3A%209.54424%2C%0A%20%20%22stroke%22%3A%20true%2C%0A%20%20%22weight%22%3A%203%0A%7D%0A%20%20%20%20%20%20%20%20%20%20%20%20%20%20%20%20%29%0A%20%20%20%20%20%20%20%20%20%20%20%20%20%20%20%20.addTo%28map_659e4092c0704023815dde7a1297a438%29%3B%0A%20%20%20%20%20%20%20%20%20%20%20%20%0A%20%20%20%20%0A%20%20%20%20%20%20%20%20%20%20%20%20var%20circle_marker_d73881c6917849a8b5bf57ea5c6a523d%20%3D%20L.circleMarker%28%0A%20%20%20%20%20%20%20%20%20%20%20%20%20%20%20%20%5B12.92038576%2C%2079.15004187%5D%2C%0A%20%20%20%20%20%20%20%20%20%20%20%20%20%20%20%20%7B%0A%20%20%22bubblingMouseEvents%22%3A%20true%2C%0A%20%20%22color%22%3A%20%22crimson%22%2C%0A%20%20%22dashArray%22%3A%20null%2C%0A%20%20%22dashOffset%22%3A%20null%2C%0A%20%20%22fill%22%3A%20true%2C%0A%20%20%22fillColor%22%3A%20%22red%22%2C%0A%20%20%22fillOpacity%22%3A%200.2%2C%0A%20%20%22fillRule%22%3A%20%22evenodd%22%2C%0A%20%20%22lineCap%22%3A%20%22round%22%2C%0A%20%20%22lineJoin%22%3A%20%22round%22%2C%0A%20%20%22opacity%22%3A%201.0%2C%0A%20%20%22radius%22%3A%2027.00593%2C%0A%20%20%22stroke%22%3A%20true%2C%0A%20%20%22weight%22%3A%203%0A%7D%0A%20%20%20%20%20%20%20%20%20%20%20%20%20%20%20%20%29%0A%20%20%20%20%20%20%20%20%20%20%20%20%20%20%20%20.addTo%28map_659e4092c0704023815dde7a1297a438%29%3B%0A%20%20%20%20%20%20%20%20%20%20%20%20%0A%20%20%20%20%0A%20%20%20%20%20%20%20%20%20%20%20%20var%20circle_marker_940357f2fbad4d73a419de89e972f658%20%3D%20L.circleMarker%28%0A%20%20%20%20%20%20%20%20%20%20%20%20%20%20%20%20%5B27.59998069%2C%2078.05000565%5D%2C%0A%20%20%20%20%20%20%20%20%20%20%20%20%20%20%20%20%7B%0A%20%20%22bubblingMouseEvents%22%3A%20true%2C%0A%20%20%22color%22%3A%20%22crimson%22%2C%0A%20%20%22dashArray%22%3A%20null%2C%0A%20%20%22dashOffset%22%3A%20null%2C%0A%20%20%22fill%22%3A%20true%2C%0A%20%20%22fillColor%22%3A%20%22red%22%2C%0A%20%20%22fillOpacity%22%3A%200.2%2C%0A%20%20%22fillRule%22%3A%20%22evenodd%22%2C%0A%20%20%22lineCap%22%3A%20%22round%22%2C%0A%20%20%22lineJoin%22%3A%20%22round%22%2C%0A%20%20%22opacity%22%3A%201.0%2C%0A%20%20%22radius%22%3A%2017.10133%2C%0A%20%20%22stroke%22%3A%20true%2C%0A%20%20%22weight%22%3A%203%0A%7D%0A%20%20%20%20%20%20%20%20%20%20%20%20%20%20%20%20%29%0A%20%20%20%20%20%20%20%20%20%20%20%20%20%20%20%20.addTo%28map_659e4092c0704023815dde7a1297a438%29%3B%0A%20%20%20%20%20%20%20%20%20%20%20%20%0A%20%20%20%20%0A%20%20%20%20%20%20%20%20%20%20%20%20var%20circle_marker_0d9b51593dda443bae71ee41c1e9196e%20%3D%20L.circleMarker%28%0A%20%20%20%20%20%20%20%20%20%20%20%20%20%20%20%20%5B30.32040895%2C%2078.05000565%5D%2C%0A%20%20%20%20%20%20%20%20%20%20%20%20%20%20%20%20%7B%0A%20%20%22bubblingMouseEvents%22%3A%20true%2C%0A%20%20%22color%22%3A%20%22crimson%22%2C%0A%20%20%22dashArray%22%3A%20null%2C%0A%20%20%22dashOffset%22%3A%20null%2C%0A%20%20%22fill%22%3A%20true%2C%0A%20%20%22fillColor%22%3A%20%22red%22%2C%0A%20%20%22fillOpacity%22%3A%200.2%2C%0A%20%20%22fillRule%22%3A%20%22evenodd%22%2C%0A%20%20%22lineCap%22%3A%20%22round%22%2C%0A%20%20%22lineJoin%22%3A%20%22round%22%2C%0A%20%20%22opacity%22%3A%201.0%2C%0A%20%20%22radius%22%3A%203.43876%2C%0A%20%20%22stroke%22%3A%20true%2C%0A%20%20%22weight%22%3A%203%0A%7D%0A%20%20%20%20%20%20%20%20%20%20%20%20%20%20%20%20%29%0A%20%20%20%20%20%20%20%20%20%20%20%20%20%20%20%20.addTo%28map_659e4092c0704023815dde7a1297a438%29%3B%0A%20%20%20%20%20%20%20%20%20%20%20%20%0A%3C/script%3E onload=\"this.contentDocument.open();this.contentDocument.write(    decodeURIComponent(this.getAttribute('data-html')));this.contentDocument.close();\" allowfullscreen webkitallowfullscreen mozallowfullscreen></iframe></div></div>"
            ],
            "text/plain": [
              "<folium.folium.Map at 0x7f2a58f2cf10>"
            ]
          },
          "metadata": {},
          "execution_count": 24
        }
      ]
    },
    {
      "cell_type": "code",
      "metadata": {
        "colab": {
          "base_uri": "https://localhost:8080/"
        },
        "id": "ty5mcv39IHOy",
        "outputId": "da1948e8-b401-49cd-fbe9-21badc5a03e7"
      },
      "source": [
        "#@title\n",
        "df_full.shape"
      ],
      "execution_count": null,
      "outputs": [
        {
          "output_type": "execute_result",
          "data": {
            "text/plain": [
              "(15, 11)"
            ]
          },
          "metadata": {},
          "execution_count": 25
        }
      ]
    },
    {
      "cell_type": "code",
      "metadata": {
        "colab": {
          "base_uri": "https://localhost:8080/",
          "height": 206
        },
        "id": "kzqOU5Cke3di",
        "outputId": "7aca5d54-72b7-48af-dd89-7fb363aadda7"
      },
      "source": [
        "#@title\n",
        "df_full.head()"
      ],
      "execution_count": null,
      "outputs": [
        {
          "output_type": "execute_result",
          "data": {
            "text/html": [
              "<div>\n",
              "<style scoped>\n",
              "    .dataframe tbody tr th:only-of-type {\n",
              "        vertical-align: middle;\n",
              "    }\n",
              "\n",
              "    .dataframe tbody tr th {\n",
              "        vertical-align: top;\n",
              "    }\n",
              "\n",
              "    .dataframe thead th {\n",
              "        text-align: right;\n",
              "    }\n",
              "</style>\n",
              "<table border=\"1\" class=\"dataframe\">\n",
              "  <thead>\n",
              "    <tr style=\"text-align: right;\">\n",
              "      <th></th>\n",
              "      <th>Name of State / UT</th>\n",
              "      <th>Latitude</th>\n",
              "      <th>Longitude</th>\n",
              "      <th>Date</th>\n",
              "      <th>Confirmed Cases</th>\n",
              "      <th>Active Cases</th>\n",
              "      <th>Cured/Discharged</th>\n",
              "      <th>Death</th>\n",
              "      <th>Date_converted</th>\n",
              "      <th>year</th>\n",
              "      <th>month</th>\n",
              "    </tr>\n",
              "  </thead>\n",
              "  <tbody>\n",
              "    <tr>\n",
              "      <th>0</th>\n",
              "      <td>Andaman and Nicobar Islands</td>\n",
              "      <td>11.667026</td>\n",
              "      <td>92.735983</td>\n",
              "      <td>01-01-1970</td>\n",
              "      <td>7651</td>\n",
              "      <td>5.0</td>\n",
              "      <td>7517.0</td>\n",
              "      <td>129.0</td>\n",
              "      <td>1970-01-01</td>\n",
              "      <td>1970</td>\n",
              "      <td>1</td>\n",
              "    </tr>\n",
              "    <tr>\n",
              "      <th>1</th>\n",
              "      <td>Andhra Pradesh</td>\n",
              "      <td>14.750429</td>\n",
              "      <td>78.570026</td>\n",
              "      <td>01-01-1970</td>\n",
              "      <td>2065716</td>\n",
              "      <td>4837.0</td>\n",
              "      <td>2046512.0</td>\n",
              "      <td>14367.0</td>\n",
              "      <td>1970-01-01</td>\n",
              "      <td>1970</td>\n",
              "      <td>1</td>\n",
              "    </tr>\n",
              "    <tr>\n",
              "      <th>2</th>\n",
              "      <td>Dadra and Nagar Haveli and Daman and Diu</td>\n",
              "      <td>20.266578</td>\n",
              "      <td>73.016618</td>\n",
              "      <td>01-01-1970</td>\n",
              "      <td>10682</td>\n",
              "      <td>6.0</td>\n",
              "      <td>10672.0</td>\n",
              "      <td>4.0</td>\n",
              "      <td>1970-01-01</td>\n",
              "      <td>1970</td>\n",
              "      <td>1</td>\n",
              "    </tr>\n",
              "    <tr>\n",
              "      <th>3</th>\n",
              "      <td>Delhi</td>\n",
              "      <td>28.669993</td>\n",
              "      <td>77.230004</td>\n",
              "      <td>01-01-1970</td>\n",
              "      <td>1439788</td>\n",
              "      <td>334.0</td>\n",
              "      <td>1414363.0</td>\n",
              "      <td>25091.0</td>\n",
              "      <td>1970-01-01</td>\n",
              "      <td>1970</td>\n",
              "      <td>1</td>\n",
              "    </tr>\n",
              "    <tr>\n",
              "      <th>4</th>\n",
              "      <td>Gujarat</td>\n",
              "      <td>22.258700</td>\n",
              "      <td>71.192400</td>\n",
              "      <td>01-01-1970</td>\n",
              "      <td>826526</td>\n",
              "      <td>192.0</td>\n",
              "      <td>816246.0</td>\n",
              "      <td>10088.0</td>\n",
              "      <td>1970-01-01</td>\n",
              "      <td>1970</td>\n",
              "      <td>1</td>\n",
              "    </tr>\n",
              "  </tbody>\n",
              "</table>\n",
              "</div>"
            ],
            "text/plain": [
              "                         Name of State / UT   Latitude  ...  year month\n",
              "0               Andaman and Nicobar Islands  11.667026  ...  1970     1\n",
              "1                            Andhra Pradesh  14.750429  ...  1970     1\n",
              "2  Dadra and Nagar Haveli and Daman and Diu  20.266578  ...  1970     1\n",
              "3                                     Delhi  28.669993  ...  1970     1\n",
              "4                                   Gujarat  22.258700  ...  1970     1\n",
              "\n",
              "[5 rows x 11 columns]"
            ]
          },
          "metadata": {},
          "execution_count": 26
        }
      ]
    },
    {
      "cell_type": "markdown",
      "metadata": {
        "id": "_kfVZtDBI7dA"
      },
      "source": [
        "## Statewise Confirmed Vs Recovered Cases"
      ]
    },
    {
      "cell_type": "code",
      "metadata": {
        "colab": {
          "base_uri": "https://localhost:8080/"
        },
        "id": "hTERfeKAVTIL",
        "outputId": "ba4beebd-f0e2-4bb3-e3c0-e1db0fe15f3c"
      },
      "source": [
        "#@title\n",
        "## Confirmed vs Recovered Figures\n",
        "fig, ax = plt.subplots(figsize = (14,8))\n",
        "data = df_full[['Name of State / UT', 'Confirmed Cases', 'Cured/Discharged', 'Death']]\n",
        "data.sort_values('Confirmed Cases', ascending = False, inplace = True)\n",
        "sns.set_color_codes(\"pastel\")\n",
        "sns.barplot(x = 'Confirmed Cases', y = 'Name of State / UT', data = data, label = 'Total', color = 'r')\n",
        "\n",
        "sns.set_color_codes('muted')\n",
        "sns.barplot(x = 'Cured/Discharged', y = 'Name of State / UT', data = data, label = 'Cured', color = 'g')"
      ],
      "execution_count": null,
      "outputs": [
        {
          "output_type": "execute_result",
          "data": {
            "text/plain": [
              "<matplotlib.axes._subplots.AxesSubplot at 0x7f2a5a2f59d0>"
            ]
          },
          "metadata": {},
          "execution_count": 27
        },
        {
          "output_type": "display_data",
          "data": {
            "image/png": "[encoded data removed]",
            "text/plain": [
              "<Figure size 1008x576 with 1 Axes>"
            ]
          },
          "metadata": {
            "needs_background": "light"
          }
        }
      ]
    },
    {
      "cell_type": "markdown",
      "metadata": {
        "id": "1Hkv7azjJyh5"
      },
      "source": [
        "## Total Number of Deaths Statewise"
      ]
    },
    {
      "cell_type": "code",
      "metadata": {
        "colab": {
          "base_uri": "https://localhost:8080/"
        },
        "id": "Dij9IQ1-GX80",
        "outputId": "e6405767-08ff-46cb-90fe-ed55e8a850ed"
      },
      "source": [
        "#@title\n",
        "table1 = df_state_tot[['Name of State / UT', 'Death', 'Active Cases']].sort_values(by = 'Death')\n",
        "table1.head()"
      ],
      "execution_count": null,
      "outputs": [
        {
          "output_type": "execute_result",
          "data": {
            "text/html": [
              "<div>\n",
              "<style scoped>\n",
              "    .dataframe tbody tr th:only-of-type {\n",
              "        vertical-align: middle;\n",
              "    }\n",
              "\n",
              "    .dataframe tbody tr th {\n",
              "        vertical-align: top;\n",
              "    }\n",
              "\n",
              "    .dataframe thead th {\n",
              "        text-align: right;\n",
              "    }\n",
              "</style>\n",
              "<table border=\"1\" class=\"dataframe\">\n",
              "  <thead>\n",
              "    <tr style=\"text-align: right;\">\n",
              "      <th></th>\n",
              "      <th>Name of State / UT</th>\n",
              "      <th>Death</th>\n",
              "      <th>Active Cases</th>\n",
              "    </tr>\n",
              "  </thead>\n",
              "  <tbody>\n",
              "    <tr>\n",
              "      <th>4717</th>\n",
              "      <td>Dadra and Nagar Haveli and Daman and Diu</td>\n",
              "      <td>4.0</td>\n",
              "      <td>6.0</td>\n",
              "    </tr>\n",
              "    <tr>\n",
              "      <th>11206</th>\n",
              "      <td>Lakshadweep</td>\n",
              "      <td>51.0</td>\n",
              "      <td>0.0</td>\n",
              "    </tr>\n",
              "    <tr>\n",
              "      <th>600</th>\n",
              "      <td>Andaman and Nicobar Islands</td>\n",
              "      <td>129.0</td>\n",
              "      <td>5.0</td>\n",
              "    </tr>\n",
              "    <tr>\n",
              "      <th>10606</th>\n",
              "      <td>Ladakh</td>\n",
              "      <td>208.0</td>\n",
              "      <td>58.0</td>\n",
              "    </tr>\n",
              "    <tr>\n",
              "      <th>1785</th>\n",
              "      <td>Arunachal Pradesh</td>\n",
              "      <td>280.0</td>\n",
              "      <td>108.0</td>\n",
              "    </tr>\n",
              "  </tbody>\n",
              "</table>\n",
              "</div>"
            ],
            "text/plain": [
              "                             Name of State / UT  Death  Active Cases\n",
              "4717   Dadra and Nagar Haveli and Daman and Diu    4.0           6.0\n",
              "11206                               Lakshadweep   51.0           0.0\n",
              "600                 Andaman and Nicobar Islands  129.0           5.0\n",
              "10606                                    Ladakh  208.0          58.0\n",
              "1785                          Arunachal Pradesh  280.0         108.0"
            ]
          },
          "metadata": {},
          "execution_count": 28
        }
      ]
    },
    {
      "cell_type": "code",
      "metadata": {
        "colab": {
          "base_uri": "https://localhost:8080/"
        },
        "id": "s97DGR-NJdgX",
        "outputId": "ff15f7c8-3ea3-4503-d669-64bea1b6ff02"
      },
      "source": [
        "#@title\n",
        "plt.subplots(figsize = (16,8))\n",
        "plt.bar(table1['Name of State / UT'], table1['Death'], width = 1, edgecolor = 'black', color = sns.color_palette('inferno', 35))\n",
        "plt.xticks(rotation = 90, size = 14)\n",
        "plt.yticks(size = 14)\n",
        "plt.title('Deaths per State')"
      ],
      "execution_count": null,
      "outputs": [
        {
          "output_type": "execute_result",
          "data": {
            "text/plain": [
              "Text(0.5, 1.0, 'Deaths per State')"
            ]
          },
          "metadata": {},
          "execution_count": 29
        },
        {
          "output_type": "display_data",
          "data": {
            "image/png": "[encoded data removed]",
            "text/plain": [
              "<Figure size 1152x576 with 1 Axes>"
            ]
          },
          "metadata": {
            "needs_background": "light"
          }
        }
      ]
    },
    {
      "cell_type": "markdown",
      "metadata": {
        "id": "gaPzx8JM_67w"
      },
      "source": [
        "## Total Number of Active Cases Statewise"
      ]
    },
    {
      "cell_type": "code",
      "metadata": {
        "cellView": "form",
        "colab": {
          "base_uri": "https://localhost:8080/"
        },
        "id": "QeBKiB7GI-Jg",
        "outputId": "fe5bd442-0f9e-4e9f-c4d7-f4448d1a0288"
      },
      "source": [
        "#@title\n",
        "table2 = table1.copy()\n",
        "table2.sort_values(by = 'Active Cases', inplace = True)\n",
        "table2.head()"
      ],
      "execution_count": null,
      "outputs": [
        {
          "output_type": "execute_result",
          "data": {
            "text/html": [
              "<div>\n",
              "<style scoped>\n",
              "    .dataframe tbody tr th:only-of-type {\n",
              "        vertical-align: middle;\n",
              "    }\n",
              "\n",
              "    .dataframe tbody tr th {\n",
              "        vertical-align: top;\n",
              "    }\n",
              "\n",
              "    .dataframe thead th {\n",
              "        text-align: right;\n",
              "    }\n",
              "</style>\n",
              "<table border=\"1\" class=\"dataframe\">\n",
              "  <thead>\n",
              "    <tr style=\"text-align: right;\">\n",
              "      <th></th>\n",
              "      <th>Name of State / UT</th>\n",
              "      <th>Death</th>\n",
              "      <th>Active Cases</th>\n",
              "    </tr>\n",
              "  </thead>\n",
              "  <tbody>\n",
              "    <tr>\n",
              "      <th>11206</th>\n",
              "      <td>Lakshadweep</td>\n",
              "      <td>51.0</td>\n",
              "      <td>0.0</td>\n",
              "    </tr>\n",
              "    <tr>\n",
              "      <th>600</th>\n",
              "      <td>Andaman and Nicobar Islands</td>\n",
              "      <td>129.0</td>\n",
              "      <td>5.0</td>\n",
              "    </tr>\n",
              "    <tr>\n",
              "      <th>4717</th>\n",
              "      <td>Dadra and Nagar Haveli and Daman and Diu</td>\n",
              "      <td>4.0</td>\n",
              "      <td>6.0</td>\n",
              "    </tr>\n",
              "    <tr>\n",
              "      <th>16918</th>\n",
              "      <td>Rajasthan</td>\n",
              "      <td>8954.0</td>\n",
              "      <td>30.0</td>\n",
              "    </tr>\n",
              "    <tr>\n",
              "      <th>3532</th>\n",
              "      <td>Chandigarh</td>\n",
              "      <td>820.0</td>\n",
              "      <td>30.0</td>\n",
              "    </tr>\n",
              "  </tbody>\n",
              "</table>\n",
              "</div>"
            ],
            "text/plain": [
              "                             Name of State / UT   Death  Active Cases\n",
              "11206                               Lakshadweep    51.0           0.0\n",
              "600                 Andaman and Nicobar Islands   129.0           5.0\n",
              "4717   Dadra and Nagar Haveli and Daman and Diu     4.0           6.0\n",
              "16918                                 Rajasthan  8954.0          30.0\n",
              "3532                                 Chandigarh   820.0          30.0"
            ]
          },
          "metadata": {},
          "execution_count": 30
        }
      ]
    },
    {
      "cell_type": "code",
      "metadata": {
        "cellView": "form",
        "colab": {
          "base_uri": "https://localhost:8080/"
        },
        "id": "nVhuTftn_5jh",
        "outputId": "5f39940a-074b-4a15-a45a-3073cedf8860"
      },
      "source": [
        "#@title\n",
        "plt.subplots(figsize = (16,8))\n",
        "plt.bar(table2['Name of State / UT'], table2['Active Cases'], width = 1, edgecolor = 'black', color = sns.color_palette('inferno', 35))\n",
        "plt.xticks(rotation = 90, size = 14)\n",
        "plt.yticks(size = 14)\n",
        "plt.title('Deaths per State')"
      ],
      "execution_count": null,
      "outputs": [
        {
          "output_type": "execute_result",
          "data": {
            "text/plain": [
              "Text(0.5, 1.0, 'Deaths per State')"
            ]
          },
          "metadata": {},
          "execution_count": 31
        },
        {
          "output_type": "display_data",
          "data": {
            "image/png": "[encoded data removed]",
            "text/plain": [
              "<Figure size 1152x576 with 1 Axes>"
            ]
          },
          "metadata": {
            "needs_background": "light"
          }
        }
      ]
    },
    {
      "cell_type": "markdown",
      "metadata": {
        "id": "KC-a3Fc-gHYe"
      },
      "source": [
        "## Rise in Total Deaths Across India"
      ]
    },
    {
      "cell_type": "code",
      "metadata": {
        "colab": {
          "base_uri": "https://localhost:8080/",
          "height": 206
        },
        "id": "NpZQtzcCg5Cc",
        "outputId": "78bd1c7b-6749-4994-a3ba-8cec9db71029"
      },
      "source": [
        "df_india.head()"
      ],
      "execution_count": null,
      "outputs": [
        {
          "output_type": "execute_result",
          "data": {
            "text/html": [
              "<div>\n",
              "<style scoped>\n",
              "    .dataframe tbody tr th:only-of-type {\n",
              "        vertical-align: middle;\n",
              "    }\n",
              "\n",
              "    .dataframe tbody tr th {\n",
              "        vertical-align: top;\n",
              "    }\n",
              "\n",
              "    .dataframe thead th {\n",
              "        text-align: right;\n",
              "    }\n",
              "</style>\n",
              "<table border=\"1\" class=\"dataframe\">\n",
              "  <thead>\n",
              "    <tr style=\"text-align: right;\">\n",
              "      <th></th>\n",
              "      <th>Date</th>\n",
              "      <th>Region</th>\n",
              "      <th>Confirmed Cases</th>\n",
              "      <th>Active Cases</th>\n",
              "      <th>Cured/Discharged</th>\n",
              "      <th>Death</th>\n",
              "      <th>Date_converted</th>\n",
              "      <th>year</th>\n",
              "      <th>month</th>\n",
              "    </tr>\n",
              "  </thead>\n",
              "  <tbody>\n",
              "    <tr>\n",
              "      <th>0</th>\n",
              "      <td>01-01-1970</td>\n",
              "      <td>India</td>\n",
              "      <td>34260470</td>\n",
              "      <td>161555.0</td>\n",
              "      <td>33641175.0</td>\n",
              "      <td>457740.0</td>\n",
              "      <td>1970-01-01</td>\n",
              "      <td>1970</td>\n",
              "      <td>1</td>\n",
              "    </tr>\n",
              "    <tr>\n",
              "      <th>1</th>\n",
              "      <td>12-03-2020</td>\n",
              "      <td>India</td>\n",
              "      <td>74</td>\n",
              "      <td>71.0</td>\n",
              "      <td>3.0</td>\n",
              "      <td>0.0</td>\n",
              "      <td>2020-03-12</td>\n",
              "      <td>2020</td>\n",
              "      <td>3</td>\n",
              "    </tr>\n",
              "    <tr>\n",
              "      <th>2</th>\n",
              "      <td>13-03-2020</td>\n",
              "      <td>India</td>\n",
              "      <td>75</td>\n",
              "      <td>71.0</td>\n",
              "      <td>3.0</td>\n",
              "      <td>1.0</td>\n",
              "      <td>2020-03-13</td>\n",
              "      <td>2020</td>\n",
              "      <td>3</td>\n",
              "    </tr>\n",
              "    <tr>\n",
              "      <th>3</th>\n",
              "      <td>14-03-2020</td>\n",
              "      <td>India</td>\n",
              "      <td>84</td>\n",
              "      <td>72.0</td>\n",
              "      <td>10.0</td>\n",
              "      <td>2.0</td>\n",
              "      <td>2020-03-14</td>\n",
              "      <td>2020</td>\n",
              "      <td>3</td>\n",
              "    </tr>\n",
              "    <tr>\n",
              "      <th>4</th>\n",
              "      <td>15-03-2020</td>\n",
              "      <td>India</td>\n",
              "      <td>107</td>\n",
              "      <td>95.0</td>\n",
              "      <td>10.0</td>\n",
              "      <td>2.0</td>\n",
              "      <td>2020-03-15</td>\n",
              "      <td>2020</td>\n",
              "      <td>3</td>\n",
              "    </tr>\n",
              "  </tbody>\n",
              "</table>\n",
              "</div>"
            ],
            "text/plain": [
              "         Date Region  Confirmed Cases  ...  Date_converted  year  month\n",
              "0  01-01-1970  India         34260470  ...      1970-01-01  1970      1\n",
              "1  12-03-2020  India               74  ...      2020-03-12  2020      3\n",
              "2  13-03-2020  India               75  ...      2020-03-13  2020      3\n",
              "3  14-03-2020  India               84  ...      2020-03-14  2020      3\n",
              "4  15-03-2020  India              107  ...      2020-03-15  2020      3\n",
              "\n",
              "[5 rows x 9 columns]"
            ]
          },
          "metadata": {},
          "execution_count": 32
        }
      ]
    },
    {
      "cell_type": "code",
      "metadata": {
        "colab": {
          "base_uri": "https://localhost:8080/",
          "height": 206
        },
        "id": "V8YKyCKHXO4M",
        "outputId": "7f238634-60f1-42c2-cb94-746667e4368a"
      },
      "source": [
        "India_table = df_india[df_india['Date_converted'] != '1970-01-01']\n",
        "India_table.head()"
      ],
      "execution_count": null,
      "outputs": [
        {
          "output_type": "execute_result",
          "data": {
            "text/html": [
              "<div>\n",
              "<style scoped>\n",
              "    .dataframe tbody tr th:only-of-type {\n",
              "        vertical-align: middle;\n",
              "    }\n",
              "\n",
              "    .dataframe tbody tr th {\n",
              "        vertical-align: top;\n",
              "    }\n",
              "\n",
              "    .dataframe thead th {\n",
              "        text-align: right;\n",
              "    }\n",
              "</style>\n",
              "<table border=\"1\" class=\"dataframe\">\n",
              "  <thead>\n",
              "    <tr style=\"text-align: right;\">\n",
              "      <th></th>\n",
              "      <th>Date</th>\n",
              "      <th>Region</th>\n",
              "      <th>Confirmed Cases</th>\n",
              "      <th>Active Cases</th>\n",
              "      <th>Cured/Discharged</th>\n",
              "      <th>Death</th>\n",
              "      <th>Date_converted</th>\n",
              "      <th>year</th>\n",
              "      <th>month</th>\n",
              "    </tr>\n",
              "  </thead>\n",
              "  <tbody>\n",
              "    <tr>\n",
              "      <th>1</th>\n",
              "      <td>12-03-2020</td>\n",
              "      <td>India</td>\n",
              "      <td>74</td>\n",
              "      <td>71.0</td>\n",
              "      <td>3.0</td>\n",
              "      <td>0.0</td>\n",
              "      <td>2020-03-12</td>\n",
              "      <td>2020</td>\n",
              "      <td>3</td>\n",
              "    </tr>\n",
              "    <tr>\n",
              "      <th>2</th>\n",
              "      <td>13-03-2020</td>\n",
              "      <td>India</td>\n",
              "      <td>75</td>\n",
              "      <td>71.0</td>\n",
              "      <td>3.0</td>\n",
              "      <td>1.0</td>\n",
              "      <td>2020-03-13</td>\n",
              "      <td>2020</td>\n",
              "      <td>3</td>\n",
              "    </tr>\n",
              "    <tr>\n",
              "      <th>3</th>\n",
              "      <td>14-03-2020</td>\n",
              "      <td>India</td>\n",
              "      <td>84</td>\n",
              "      <td>72.0</td>\n",
              "      <td>10.0</td>\n",
              "      <td>2.0</td>\n",
              "      <td>2020-03-14</td>\n",
              "      <td>2020</td>\n",
              "      <td>3</td>\n",
              "    </tr>\n",
              "    <tr>\n",
              "      <th>4</th>\n",
              "      <td>15-03-2020</td>\n",
              "      <td>India</td>\n",
              "      <td>107</td>\n",
              "      <td>95.0</td>\n",
              "      <td>10.0</td>\n",
              "      <td>2.0</td>\n",
              "      <td>2020-03-15</td>\n",
              "      <td>2020</td>\n",
              "      <td>3</td>\n",
              "    </tr>\n",
              "    <tr>\n",
              "      <th>5</th>\n",
              "      <td>16-03-2020</td>\n",
              "      <td>India</td>\n",
              "      <td>114</td>\n",
              "      <td>99.0</td>\n",
              "      <td>13.0</td>\n",
              "      <td>2.0</td>\n",
              "      <td>2020-03-16</td>\n",
              "      <td>2020</td>\n",
              "      <td>3</td>\n",
              "    </tr>\n",
              "  </tbody>\n",
              "</table>\n",
              "</div>"
            ],
            "text/plain": [
              "         Date Region  Confirmed Cases  ...  Date_converted  year  month\n",
              "1  12-03-2020  India               74  ...      2020-03-12  2020      3\n",
              "2  13-03-2020  India               75  ...      2020-03-13  2020      3\n",
              "3  14-03-2020  India               84  ...      2020-03-14  2020      3\n",
              "4  15-03-2020  India              107  ...      2020-03-15  2020      3\n",
              "5  16-03-2020  India              114  ...      2020-03-16  2020      3\n",
              "\n",
              "[5 rows x 9 columns]"
            ]
          },
          "metadata": {},
          "execution_count": 33
        }
      ]
    },
    {
      "cell_type": "code",
      "metadata": {
        "colab": {
          "base_uri": "https://localhost:8080/"
        },
        "id": "tWLfjNeIMJWu",
        "outputId": "bbc41853-6729-4e78-bb11-26ea4dcea52f"
      },
      "source": [
        "India_table.shape"
      ],
      "execution_count": null,
      "outputs": [
        {
          "output_type": "execute_result",
          "data": {
            "text/plain": [
              "(599, 9)"
            ]
          },
          "metadata": {},
          "execution_count": 34
        }
      ]
    },
    {
      "cell_type": "code",
      "metadata": {
        "colab": {
          "base_uri": "https://localhost:8080/",
          "height": 81
        },
        "id": "tEAo9AEOMc7p",
        "outputId": "981eaa9e-de54-4c61-bb4c-de4418a1a2ed"
      },
      "source": [
        "df_india_tot = df_india[df_india['Date_converted'] == '1970-01-01']\n",
        "df_india_tot.head()"
      ],
      "execution_count": null,
      "outputs": [
        {
          "output_type": "execute_result",
          "data": {
            "text/html": [
              "<div>\n",
              "<style scoped>\n",
              "    .dataframe tbody tr th:only-of-type {\n",
              "        vertical-align: middle;\n",
              "    }\n",
              "\n",
              "    .dataframe tbody tr th {\n",
              "        vertical-align: top;\n",
              "    }\n",
              "\n",
              "    .dataframe thead th {\n",
              "        text-align: right;\n",
              "    }\n",
              "</style>\n",
              "<table border=\"1\" class=\"dataframe\">\n",
              "  <thead>\n",
              "    <tr style=\"text-align: right;\">\n",
              "      <th></th>\n",
              "      <th>Date</th>\n",
              "      <th>Region</th>\n",
              "      <th>Confirmed Cases</th>\n",
              "      <th>Active Cases</th>\n",
              "      <th>Cured/Discharged</th>\n",
              "      <th>Death</th>\n",
              "      <th>Date_converted</th>\n",
              "      <th>year</th>\n",
              "      <th>month</th>\n",
              "    </tr>\n",
              "  </thead>\n",
              "  <tbody>\n",
              "    <tr>\n",
              "      <th>0</th>\n",
              "      <td>01-01-1970</td>\n",
              "      <td>India</td>\n",
              "      <td>34260470</td>\n",
              "      <td>161555.0</td>\n",
              "      <td>33641175.0</td>\n",
              "      <td>457740.0</td>\n",
              "      <td>1970-01-01</td>\n",
              "      <td>1970</td>\n",
              "      <td>1</td>\n",
              "    </tr>\n",
              "  </tbody>\n",
              "</table>\n",
              "</div>"
            ],
            "text/plain": [
              "         Date Region  Confirmed Cases  ...  Date_converted  year  month\n",
              "0  01-01-1970  India         34260470  ...      1970-01-01  1970      1\n",
              "\n",
              "[1 rows x 9 columns]"
            ]
          },
          "metadata": {},
          "execution_count": 35
        }
      ]
    },
    {
      "cell_type": "code",
      "metadata": {
        "colab": {
          "base_uri": "https://localhost:8080/"
        },
        "id": "e_9GPPzWIIK2",
        "outputId": "4dfe3ae5-fe36-4e0b-b461-8a0885cf5e4f"
      },
      "source": [
        "df_india[df_india['Date_converted'] > '2021-10-01'].shape"
      ],
      "execution_count": null,
      "outputs": [
        {
          "output_type": "execute_result",
          "data": {
            "text/plain": [
              "(45, 9)"
            ]
          },
          "metadata": {},
          "execution_count": 36
        }
      ]
    },
    {
      "cell_type": "markdown",
      "metadata": {
        "id": "bhaoUoRhG0ey"
      },
      "source": [
        "### Creating Data Frame for Delhi"
      ]
    },
    {
      "cell_type": "code",
      "metadata": {
        "id": "6IKbmw7N8z1z"
      },
      "source": [
        "df_delhi = df_states[df_states['Region'] == 'Delhi']\n",
        "df_delhi.drop(index = 5259, inplace = True)"
      ],
      "execution_count": null,
      "outputs": []
    },
    {
      "cell_type": "code",
      "metadata": {
        "colab": {
          "base_uri": "https://localhost:8080/",
          "height": 206
        },
        "id": "BCoT6crOG4rP",
        "outputId": "5fff4df7-4fcf-4395-98d8-4f52511fa8f9"
      },
      "source": [
        "df_delhi.head()"
      ],
      "execution_count": null,
      "outputs": [
        {
          "output_type": "execute_result",
          "data": {
            "text/html": [
              "<div>\n",
              "<style scoped>\n",
              "    .dataframe tbody tr th:only-of-type {\n",
              "        vertical-align: middle;\n",
              "    }\n",
              "\n",
              "    .dataframe tbody tr th {\n",
              "        vertical-align: top;\n",
              "    }\n",
              "\n",
              "    .dataframe thead th {\n",
              "        text-align: right;\n",
              "    }\n",
              "</style>\n",
              "<table border=\"1\" class=\"dataframe\">\n",
              "  <thead>\n",
              "    <tr style=\"text-align: right;\">\n",
              "      <th></th>\n",
              "      <th>Date</th>\n",
              "      <th>Region</th>\n",
              "      <th>Confirmed Cases</th>\n",
              "      <th>Active Cases</th>\n",
              "      <th>Cured/Discharged</th>\n",
              "      <th>Death</th>\n",
              "      <th>Date_converted</th>\n",
              "      <th>year</th>\n",
              "      <th>month</th>\n",
              "    </tr>\n",
              "  </thead>\n",
              "  <tbody>\n",
              "    <tr>\n",
              "      <th>5260</th>\n",
              "      <td>12-03-2020</td>\n",
              "      <td>Delhi</td>\n",
              "      <td>6</td>\n",
              "      <td>6.0</td>\n",
              "      <td>0.0</td>\n",
              "      <td>0.0</td>\n",
              "      <td>2020-03-12</td>\n",
              "      <td>2020</td>\n",
              "      <td>3</td>\n",
              "    </tr>\n",
              "    <tr>\n",
              "      <th>5261</th>\n",
              "      <td>13-03-2020</td>\n",
              "      <td>Delhi</td>\n",
              "      <td>6</td>\n",
              "      <td>6.0</td>\n",
              "      <td>0.0</td>\n",
              "      <td>0.0</td>\n",
              "      <td>2020-03-13</td>\n",
              "      <td>2020</td>\n",
              "      <td>3</td>\n",
              "    </tr>\n",
              "    <tr>\n",
              "      <th>5262</th>\n",
              "      <td>14-03-2020</td>\n",
              "      <td>Delhi</td>\n",
              "      <td>7</td>\n",
              "      <td>5.0</td>\n",
              "      <td>1.0</td>\n",
              "      <td>1.0</td>\n",
              "      <td>2020-03-14</td>\n",
              "      <td>2020</td>\n",
              "      <td>3</td>\n",
              "    </tr>\n",
              "    <tr>\n",
              "      <th>5263</th>\n",
              "      <td>15-03-2020</td>\n",
              "      <td>Delhi</td>\n",
              "      <td>7</td>\n",
              "      <td>4.0</td>\n",
              "      <td>2.0</td>\n",
              "      <td>1.0</td>\n",
              "      <td>2020-03-15</td>\n",
              "      <td>2020</td>\n",
              "      <td>3</td>\n",
              "    </tr>\n",
              "    <tr>\n",
              "      <th>5264</th>\n",
              "      <td>16-03-2020</td>\n",
              "      <td>Delhi</td>\n",
              "      <td>7</td>\n",
              "      <td>4.0</td>\n",
              "      <td>2.0</td>\n",
              "      <td>1.0</td>\n",
              "      <td>2020-03-16</td>\n",
              "      <td>2020</td>\n",
              "      <td>3</td>\n",
              "    </tr>\n",
              "  </tbody>\n",
              "</table>\n",
              "</div>"
            ],
            "text/plain": [
              "            Date Region  Confirmed Cases  ...  Date_converted  year  month\n",
              "5260  12-03-2020  Delhi                6  ...      2020-03-12  2020      3\n",
              "5261  13-03-2020  Delhi                6  ...      2020-03-13  2020      3\n",
              "5262  14-03-2020  Delhi                7  ...      2020-03-14  2020      3\n",
              "5263  15-03-2020  Delhi                7  ...      2020-03-15  2020      3\n",
              "5264  16-03-2020  Delhi                7  ...      2020-03-16  2020      3\n",
              "\n",
              "[5 rows x 9 columns]"
            ]
          },
          "metadata": {},
          "execution_count": 38
        }
      ]
    },
    {
      "cell_type": "markdown",
      "metadata": {
        "id": "JMCfRFLgRe4s"
      },
      "source": [
        "## Time Series Analysis"
      ]
    },
    {
      "cell_type": "markdown",
      "metadata": {
        "id": "-PB-hZxUw3rD"
      },
      "source": [
        "### Creating a univariate Time Series Data for Input"
      ]
    },
    {
      "cell_type": "code",
      "metadata": {
        "id": "wfcVqLNjsFQy",
        "colab": {
          "base_uri": "https://localhost:8080/",
          "height": 206
        },
        "outputId": "4cba6e99-232f-43cc-8717-fbaafdb31bd4"
      },
      "source": [
        "df_input = df_delhi[['Date_converted', 'Confirmed Cases']]\n",
        "df_input.rename(columns = {'Date_converted': 'ds', 'Confirmed Cases': 'y'}, inplace = True)\n",
        "df_input.reset_index(inplace = True)\n",
        "df_input.drop(columns = 'index', inplace = True)\n",
        "df_input.head()"
      ],
      "execution_count": null,
      "outputs": [
        {
          "output_type": "execute_result",
          "data": {
            "text/html": [
              "<div>\n",
              "<style scoped>\n",
              "    .dataframe tbody tr th:only-of-type {\n",
              "        vertical-align: middle;\n",
              "    }\n",
              "\n",
              "    .dataframe tbody tr th {\n",
              "        vertical-align: top;\n",
              "    }\n",
              "\n",
              "    .dataframe thead th {\n",
              "        text-align: right;\n",
              "    }\n",
              "</style>\n",
              "<table border=\"1\" class=\"dataframe\">\n",
              "  <thead>\n",
              "    <tr style=\"text-align: right;\">\n",
              "      <th></th>\n",
              "      <th>ds</th>\n",
              "      <th>y</th>\n",
              "    </tr>\n",
              "  </thead>\n",
              "  <tbody>\n",
              "    <tr>\n",
              "      <th>0</th>\n",
              "      <td>2020-03-12</td>\n",
              "      <td>6</td>\n",
              "    </tr>\n",
              "    <tr>\n",
              "      <th>1</th>\n",
              "      <td>2020-03-13</td>\n",
              "      <td>6</td>\n",
              "    </tr>\n",
              "    <tr>\n",
              "      <th>2</th>\n",
              "      <td>2020-03-14</td>\n",
              "      <td>7</td>\n",
              "    </tr>\n",
              "    <tr>\n",
              "      <th>3</th>\n",
              "      <td>2020-03-15</td>\n",
              "      <td>7</td>\n",
              "    </tr>\n",
              "    <tr>\n",
              "      <th>4</th>\n",
              "      <td>2020-03-16</td>\n",
              "      <td>7</td>\n",
              "    </tr>\n",
              "  </tbody>\n",
              "</table>\n",
              "</div>"
            ],
            "text/plain": [
              "          ds  y\n",
              "0 2020-03-12  6\n",
              "1 2020-03-13  6\n",
              "2 2020-03-14  7\n",
              "3 2020-03-15  7\n",
              "4 2020-03-16  7"
            ]
          },
          "metadata": {},
          "execution_count": 39
        }
      ]
    },
    {
      "cell_type": "code",
      "metadata": {
        "colab": {
          "base_uri": "https://localhost:8080/"
        },
        "id": "mHmtt0wNCYCT",
        "outputId": "93e2605c-59c8-454c-dd8f-67eb17c1ef94"
      },
      "source": [
        "df_input.shape"
      ],
      "execution_count": null,
      "outputs": [
        {
          "output_type": "execute_result",
          "data": {
            "text/plain": [
              "(599, 2)"
            ]
          },
          "metadata": {},
          "execution_count": 40
        }
      ]
    },
    {
      "cell_type": "markdown",
      "metadata": {
        "id": "f_xRhN1qqdi1"
      },
      "source": [
        "## PROPHET MODEL"
      ]
    },
    {
      "cell_type": "markdown",
      "metadata": {
        "id": "2ImVOyfyHMwU"
      },
      "source": [
        "### Forecasting Confirmed COVID-19 Cases for Delhi with Prophet (Base Model)"
      ]
    },
    {
      "cell_type": "code",
      "metadata": {
        "id": "ZQtf05ppRjWg"
      },
      "source": [
        "from fbprophet import Prophet"
      ],
      "execution_count": null,
      "outputs": []
    },
    {
      "cell_type": "markdown",
      "metadata": {
        "id": "yZq20jMB1_oD"
      },
      "source": [
        "To use Prophet for forecasting, first, a Prophet() object is defined and configured, then it is fit on the dataset by calling the fit() function and passing the data.\n",
        "\n",
        "The Prophet() object takes arguments to configure the type of model you want, such as the type of growth, the type of seasonality, and more. By default, the model will work hard to figure out almost everything automatically.\n",
        "\n",
        "The fit() function takes a DataFrame of time series data. The DataFrame must have a specific format. The first column must have the name ‘ds‘ and contain the date-times. The second column must have the name ‘y‘ and contain the observations."
      ]
    },
    {
      "cell_type": "markdown",
      "metadata": {
        "id": "iIqtixYWAFi9"
      },
      "source": [
        "**We will now fit the model onto the training set**"
      ]
    },
    {
      "cell_type": "markdown",
      "metadata": {
        "id": "w6EATE0cB_Fn"
      },
      "source": [
        "**We are using the Hold Out Validation technique where approximately 80 % of the data will be used for training and the rest 20% will be used to test the model on**.\n",
        "\n"
      ]
    },
    {
      "cell_type": "code",
      "metadata": {
        "colab": {
          "base_uri": "https://localhost:8080/"
        },
        "id": "Hk44kzptDRvw",
        "outputId": "bf8e0012-c0bd-4d18-8374-5bcb0356f52f"
      },
      "source": [
        "train = df_input.iloc[:int(df_input.shape[0]*0.80)]\n",
        "test = df_input.iloc[int(df_input.shape[0]*0.80):]\n",
        "print(train.shape, test.shape)"
      ],
      "execution_count": null,
      "outputs": [
        {
          "output_type": "stream",
          "name": "stdout",
          "text": [
            "(479, 2) (120, 2)\n"
          ]
        }
      ]
    },
    {
      "cell_type": "code",
      "metadata": {
        "colab": {
          "base_uri": "https://localhost:8080/"
        },
        "id": "_JAh6knGEwz3",
        "outputId": "9cdcf369-4a5f-4c6b-c5e3-b90cb120de48"
      },
      "source": [
        "print(train.tail())"
      ],
      "execution_count": null,
      "outputs": [
        {
          "output_type": "stream",
          "name": "stdout",
          "text": [
            "            ds        y\n",
            "474 2021-07-09  1434873\n",
            "475 2021-07-10  1434954\n",
            "476 2021-07-11  1435030\n",
            "477 2021-07-12  1435083\n",
            "478 2021-07-13  1435128\n"
          ]
        }
      ]
    },
    {
      "cell_type": "code",
      "metadata": {
        "id": "wVLbeI0Sqv-s",
        "colab": {
          "base_uri": "https://localhost:8080/"
        },
        "outputId": "40040389-277e-4327-ab76-6329b9cd16da"
      },
      "source": [
        "m = Prophet(interval_width=0.95)\n",
        "m.fit(train)"
      ],
      "execution_count": null,
      "outputs": [
        {
          "output_type": "stream",
          "name": "stderr",
          "text": [
            "INFO:fbprophet:Disabling yearly seasonality. Run prophet with yearly_seasonality=True to override this.\n",
            "INFO:fbprophet:Disabling daily seasonality. Run prophet with daily_seasonality=True to override this.\n"
          ]
        },
        {
          "output_type": "execute_result",
          "data": {
            "text/plain": [
              "<fbprophet.forecaster.Prophet at 0x7f2a57f23850>"
            ]
          },
          "metadata": {},
          "execution_count": 44
        }
      ]
    },
    {
      "cell_type": "markdown",
      "metadata": {
        "id": "s0-b-cgg_oa3"
      },
      "source": [
        "A forecast is made by calling the predict() function and passing a DataFrame that contains one column named ‘ds‘ and rows with date-times for all the intervals to be predicted.\n",
        "\n",
        "There are many ways to create this “forecast” DataFrame. In this case we will make it using the in built method.\n",
        "\n",
        "**We will first call the predict method on the In Sample data or hold out validation set**\n"
      ]
    },
    {
      "cell_type": "code",
      "metadata": {
        "colab": {
          "base_uri": "https://localhost:8080/"
        },
        "id": "FCQ9VBFhFE1N",
        "outputId": "a9cdc973-9366-44da-ee89-fafce59ba460"
      },
      "source": [
        "# define the period for which we want a prediction\n",
        "validation = test.drop(columns = ['y'])\n",
        "print(validation.head(), validation.shape)"
      ],
      "execution_count": null,
      "outputs": [
        {
          "output_type": "stream",
          "name": "stdout",
          "text": [
            "            ds\n",
            "479 2021-07-14\n",
            "480 2021-07-15\n",
            "481 2021-07-16\n",
            "482 2021-07-17\n",
            "483 2021-07-18 (120, 1)\n"
          ]
        }
      ]
    },
    {
      "cell_type": "code",
      "metadata": {
        "id": "DSAFFxGuTH-W"
      },
      "source": [
        "# use the model to make a forecast\n",
        "forecast = m.predict(validation)"
      ],
      "execution_count": null,
      "outputs": []
    },
    {
      "cell_type": "code",
      "metadata": {
        "colab": {
          "base_uri": "https://localhost:8080/",
          "height": 313
        },
        "id": "uzMbn5yHTXfs",
        "outputId": "3842ea41-fb93-48d7-9b5b-5554909c471a"
      },
      "source": [
        "forecast.head()"
      ],
      "execution_count": null,
      "outputs": [
        {
          "output_type": "execute_result",
          "data": {
            "text/html": [
              "<div>\n",
              "<style scoped>\n",
              "    .dataframe tbody tr th:only-of-type {\n",
              "        vertical-align: middle;\n",
              "    }\n",
              "\n",
              "    .dataframe tbody tr th {\n",
              "        vertical-align: top;\n",
              "    }\n",
              "\n",
              "    .dataframe thead th {\n",
              "        text-align: right;\n",
              "    }\n",
              "</style>\n",
              "<table border=\"1\" class=\"dataframe\">\n",
              "  <thead>\n",
              "    <tr style=\"text-align: right;\">\n",
              "      <th></th>\n",
              "      <th>ds</th>\n",
              "      <th>trend</th>\n",
              "      <th>yhat_lower</th>\n",
              "      <th>yhat_upper</th>\n",
              "      <th>trend_lower</th>\n",
              "      <th>trend_upper</th>\n",
              "      <th>additive_terms</th>\n",
              "      <th>additive_terms_lower</th>\n",
              "      <th>additive_terms_upper</th>\n",
              "      <th>weekly</th>\n",
              "      <th>weekly_lower</th>\n",
              "      <th>weekly_upper</th>\n",
              "      <th>multiplicative_terms</th>\n",
              "      <th>multiplicative_terms_lower</th>\n",
              "      <th>multiplicative_terms_upper</th>\n",
              "      <th>yhat</th>\n",
              "    </tr>\n",
              "  </thead>\n",
              "  <tbody>\n",
              "    <tr>\n",
              "      <th>0</th>\n",
              "      <td>2021-07-14</td>\n",
              "      <td>1.652607e+06</td>\n",
              "      <td>1.517552e+06</td>\n",
              "      <td>1.790965e+06</td>\n",
              "      <td>1.652607e+06</td>\n",
              "      <td>1.652672e+06</td>\n",
              "      <td>190.418815</td>\n",
              "      <td>190.418815</td>\n",
              "      <td>190.418815</td>\n",
              "      <td>190.418815</td>\n",
              "      <td>190.418815</td>\n",
              "      <td>190.418815</td>\n",
              "      <td>0.0</td>\n",
              "      <td>0.0</td>\n",
              "      <td>0.0</td>\n",
              "      <td>1.652798e+06</td>\n",
              "    </tr>\n",
              "    <tr>\n",
              "      <th>1</th>\n",
              "      <td>2021-07-15</td>\n",
              "      <td>1.660824e+06</td>\n",
              "      <td>1.532757e+06</td>\n",
              "      <td>1.785233e+06</td>\n",
              "      <td>1.660713e+06</td>\n",
              "      <td>1.661301e+06</td>\n",
              "      <td>1792.214780</td>\n",
              "      <td>1792.214780</td>\n",
              "      <td>1792.214780</td>\n",
              "      <td>1792.214780</td>\n",
              "      <td>1792.214780</td>\n",
              "      <td>1792.214780</td>\n",
              "      <td>0.0</td>\n",
              "      <td>0.0</td>\n",
              "      <td>0.0</td>\n",
              "      <td>1.662616e+06</td>\n",
              "    </tr>\n",
              "    <tr>\n",
              "      <th>2</th>\n",
              "      <td>2021-07-16</td>\n",
              "      <td>1.669040e+06</td>\n",
              "      <td>1.538633e+06</td>\n",
              "      <td>1.808590e+06</td>\n",
              "      <td>1.668351e+06</td>\n",
              "      <td>1.669906e+06</td>\n",
              "      <td>2910.757253</td>\n",
              "      <td>2910.757253</td>\n",
              "      <td>2910.757253</td>\n",
              "      <td>2910.757253</td>\n",
              "      <td>2910.757253</td>\n",
              "      <td>2910.757253</td>\n",
              "      <td>0.0</td>\n",
              "      <td>0.0</td>\n",
              "      <td>0.0</td>\n",
              "      <td>1.671951e+06</td>\n",
              "    </tr>\n",
              "    <tr>\n",
              "      <th>3</th>\n",
              "      <td>2021-07-17</td>\n",
              "      <td>1.677257e+06</td>\n",
              "      <td>1.542445e+06</td>\n",
              "      <td>1.805909e+06</td>\n",
              "      <td>1.676077e+06</td>\n",
              "      <td>1.678580e+06</td>\n",
              "      <td>-2447.756232</td>\n",
              "      <td>-2447.756232</td>\n",
              "      <td>-2447.756232</td>\n",
              "      <td>-2447.756232</td>\n",
              "      <td>-2447.756232</td>\n",
              "      <td>-2447.756232</td>\n",
              "      <td>0.0</td>\n",
              "      <td>0.0</td>\n",
              "      <td>0.0</td>\n",
              "      <td>1.674809e+06</td>\n",
              "    </tr>\n",
              "    <tr>\n",
              "      <th>4</th>\n",
              "      <td>2021-07-18</td>\n",
              "      <td>1.685474e+06</td>\n",
              "      <td>1.558592e+06</td>\n",
              "      <td>1.821934e+06</td>\n",
              "      <td>1.683615e+06</td>\n",
              "      <td>1.687502e+06</td>\n",
              "      <td>241.368308</td>\n",
              "      <td>241.368308</td>\n",
              "      <td>241.368308</td>\n",
              "      <td>241.368308</td>\n",
              "      <td>241.368308</td>\n",
              "      <td>241.368308</td>\n",
              "      <td>0.0</td>\n",
              "      <td>0.0</td>\n",
              "      <td>0.0</td>\n",
              "      <td>1.685715e+06</td>\n",
              "    </tr>\n",
              "  </tbody>\n",
              "</table>\n",
              "</div>"
            ],
            "text/plain": [
              "          ds         trend  ...  multiplicative_terms_upper          yhat\n",
              "0 2021-07-14  1.652607e+06  ...                         0.0  1.652798e+06\n",
              "1 2021-07-15  1.660824e+06  ...                         0.0  1.662616e+06\n",
              "2 2021-07-16  1.669040e+06  ...                         0.0  1.671951e+06\n",
              "3 2021-07-17  1.677257e+06  ...                         0.0  1.674809e+06\n",
              "4 2021-07-18  1.685474e+06  ...                         0.0  1.685715e+06\n",
              "\n",
              "[5 rows x 16 columns]"
            ]
          },
          "metadata": {},
          "execution_count": 47
        }
      ]
    },
    {
      "cell_type": "code",
      "metadata": {
        "colab": {
          "base_uri": "https://localhost:8080/",
          "height": 206
        },
        "id": "eTXoBYUiTd2L",
        "outputId": "1ae919f5-fbd8-44e0-93f9-b55ee608c4fb"
      },
      "source": [
        "forecast[['ds', 'yhat', 'yhat_lower', 'yhat_upper']].tail()"
      ],
      "execution_count": null,
      "outputs": [
        {
          "output_type": "execute_result",
          "data": {
            "text/html": [
              "<div>\n",
              "<style scoped>\n",
              "    .dataframe tbody tr th:only-of-type {\n",
              "        vertical-align: middle;\n",
              "    }\n",
              "\n",
              "    .dataframe tbody tr th {\n",
              "        vertical-align: top;\n",
              "    }\n",
              "\n",
              "    .dataframe thead th {\n",
              "        text-align: right;\n",
              "    }\n",
              "</style>\n",
              "<table border=\"1\" class=\"dataframe\">\n",
              "  <thead>\n",
              "    <tr style=\"text-align: right;\">\n",
              "      <th></th>\n",
              "      <th>ds</th>\n",
              "      <th>yhat</th>\n",
              "      <th>yhat_lower</th>\n",
              "      <th>yhat_upper</th>\n",
              "    </tr>\n",
              "  </thead>\n",
              "  <tbody>\n",
              "    <tr>\n",
              "      <th>115</th>\n",
              "      <td>2021-11-12</td>\n",
              "      <td>2.649721e+06</td>\n",
              "      <td>2.342171e+06</td>\n",
              "      <td>2.891538e+06</td>\n",
              "    </tr>\n",
              "    <tr>\n",
              "      <th>116</th>\n",
              "      <td>2021-11-14</td>\n",
              "      <td>2.663485e+06</td>\n",
              "      <td>2.351934e+06</td>\n",
              "      <td>2.962740e+06</td>\n",
              "    </tr>\n",
              "    <tr>\n",
              "      <th>117</th>\n",
              "      <td>2021-11-15</td>\n",
              "      <td>2.670738e+06</td>\n",
              "      <td>2.339845e+06</td>\n",
              "      <td>2.963630e+06</td>\n",
              "    </tr>\n",
              "    <tr>\n",
              "      <th>118</th>\n",
              "      <td>2021-11-16</td>\n",
              "      <td>2.677712e+06</td>\n",
              "      <td>2.365059e+06</td>\n",
              "      <td>2.975911e+06</td>\n",
              "    </tr>\n",
              "    <tr>\n",
              "      <th>119</th>\n",
              "      <td>2021-11-17</td>\n",
              "      <td>2.688084e+06</td>\n",
              "      <td>2.372476e+06</td>\n",
              "      <td>2.970890e+06</td>\n",
              "    </tr>\n",
              "  </tbody>\n",
              "</table>\n",
              "</div>"
            ],
            "text/plain": [
              "            ds          yhat    yhat_lower    yhat_upper\n",
              "115 2021-11-12  2.649721e+06  2.342171e+06  2.891538e+06\n",
              "116 2021-11-14  2.663485e+06  2.351934e+06  2.962740e+06\n",
              "117 2021-11-15  2.670738e+06  2.339845e+06  2.963630e+06\n",
              "118 2021-11-16  2.677712e+06  2.365059e+06  2.975911e+06\n",
              "119 2021-11-17  2.688084e+06  2.372476e+06  2.970890e+06"
            ]
          },
          "metadata": {},
          "execution_count": 48
        }
      ]
    },
    {
      "cell_type": "code",
      "metadata": {
        "colab": {
          "base_uri": "https://localhost:8080/",
          "height": 865
        },
        "id": "RV05V13pUE1r",
        "outputId": "fae780ce-18e3-42c0-bd84-6684c612bee6"
      },
      "source": [
        "m.plot(forecast)"
      ],
      "execution_count": null,
      "outputs": [
        {
          "output_type": "execute_result",
          "data": {
            "image/png": "[encoded data removed]",
            "text/plain": [
              "<Figure size 720x432 with 1 Axes>"
            ]
          },
          "metadata": {},
          "execution_count": 49
        },
        {
          "output_type": "display_data",
          "data": {
            "image/png": "[encoded data removed]",
            "text/plain": [
              "<Figure size 720x432 with 1 Axes>"
            ]
          },
          "metadata": {}
        }
      ]
    },
    {
      "cell_type": "markdown",
      "metadata": {
        "id": "AxaXMWd-UT1h"
      },
      "source": [
        "**Testing Model Accuracy Using Various Metrics**"
      ]
    },
    {
      "cell_type": "code",
      "metadata": {
        "id": "DuTVGMFzY7HZ"
      },
      "source": [
        "from sklearn.metrics import mean_absolute_error, mean_squared_error\n",
        "import numpy as np"
      ],
      "execution_count": null,
      "outputs": []
    },
    {
      "cell_type": "code",
      "metadata": {
        "colab": {
          "base_uri": "https://localhost:8080/"
        },
        "id": "p8Z4pXL1Udgw",
        "outputId": "17568531-c92f-45b4-9d15-373b4ae9fe39"
      },
      "source": [
        "# calculate MAE between expected and predicted values for december\n",
        "y_true = test['y'].values\n",
        "y_pred = forecast['yhat'].values\n",
        "mae = mean_absolute_error(y_true, y_pred)\n",
        "rmse = np.sqrt(mean_squared_error(y_true, y_pred))\n",
        "print('The Mean Absolute Error for our Model is (MAE): %.3f' % mae)\n",
        "print('The Root Mean Sqaured Error for our Model is (RMSE): %.3f' % rmse)"
      ],
      "execution_count": null,
      "outputs": [
        {
          "output_type": "stream",
          "name": "stdout",
          "text": [
            "The Mean Absolute Error for our Model is (MAE): 739336.250\n",
            "The Root Mean Sqaured Error for our Model is (RMSE): 794901.778\n"
          ]
        }
      ]
    },
    {
      "cell_type": "code",
      "metadata": {
        "colab": {
          "base_uri": "https://localhost:8080/",
          "height": 281
        },
        "id": "7iXKJM0jaGwY",
        "outputId": "b723e599-272d-4afe-e9fd-85ae48ddbfca"
      },
      "source": [
        "# plot expected vs actual\n",
        "plt.plot(y_true, label='Actual')\n",
        "plt.plot(y_pred, label='Predicted')\n",
        "plt.title('Predicted Vs Actual Cases on Validation Data')\n",
        "plt.legend()\n",
        "plt.show()"
      ],
      "execution_count": null,
      "outputs": [
        {
          "output_type": "display_data",
          "data": {
            "image/png": "[encoded data removed]",
            "text/plain": [
              "<Figure size 432x288 with 1 Axes>"
            ]
          },
          "metadata": {
            "needs_background": "light"
          }
        }
      ]
    },
    {
      "cell_type": "markdown",
      "metadata": {
        "id": "tYpMcrK0cPEL"
      },
      "source": [
        "**Making Future Predictions on unseen data**\n",
        "**These predictions are being made for one week ahead from the last date the COVID infection was reported**"
      ]
    },
    {
      "cell_type": "code",
      "metadata": {
        "colab": {
          "base_uri": "https://localhost:8080/"
        },
        "id": "J7Zywt3J56P8",
        "outputId": "6eb6f58d-9bd0-4572-bf7c-17bf6d34263e"
      },
      "source": [
        "future = m.make_future_dataframe(periods = 150)\n",
        "future.shape"
      ],
      "execution_count": null,
      "outputs": [
        {
          "output_type": "execute_result",
          "data": {
            "text/plain": [
              "(629, 1)"
            ]
          },
          "metadata": {},
          "execution_count": 53
        }
      ]
    },
    {
      "cell_type": "code",
      "metadata": {
        "colab": {
          "base_uri": "https://localhost:8080/",
          "height": 206
        },
        "id": "oJjm14oO_8mS",
        "outputId": "06509aef-abea-4cca-f56e-08474878373c"
      },
      "source": [
        "future.head()"
      ],
      "execution_count": null,
      "outputs": [
        {
          "output_type": "execute_result",
          "data": {
            "text/html": [
              "<div>\n",
              "<style scoped>\n",
              "    .dataframe tbody tr th:only-of-type {\n",
              "        vertical-align: middle;\n",
              "    }\n",
              "\n",
              "    .dataframe tbody tr th {\n",
              "        vertical-align: top;\n",
              "    }\n",
              "\n",
              "    .dataframe thead th {\n",
              "        text-align: right;\n",
              "    }\n",
              "</style>\n",
              "<table border=\"1\" class=\"dataframe\">\n",
              "  <thead>\n",
              "    <tr style=\"text-align: right;\">\n",
              "      <th></th>\n",
              "      <th>ds</th>\n",
              "    </tr>\n",
              "  </thead>\n",
              "  <tbody>\n",
              "    <tr>\n",
              "      <th>0</th>\n",
              "      <td>2020-03-12</td>\n",
              "    </tr>\n",
              "    <tr>\n",
              "      <th>1</th>\n",
              "      <td>2020-03-13</td>\n",
              "    </tr>\n",
              "    <tr>\n",
              "      <th>2</th>\n",
              "      <td>2020-03-14</td>\n",
              "    </tr>\n",
              "    <tr>\n",
              "      <th>3</th>\n",
              "      <td>2020-03-15</td>\n",
              "    </tr>\n",
              "    <tr>\n",
              "      <th>4</th>\n",
              "      <td>2020-03-16</td>\n",
              "    </tr>\n",
              "  </tbody>\n",
              "</table>\n",
              "</div>"
            ],
            "text/plain": [
              "          ds\n",
              "0 2020-03-12\n",
              "1 2020-03-13\n",
              "2 2020-03-14\n",
              "3 2020-03-15\n",
              "4 2020-03-16"
            ]
          },
          "metadata": {},
          "execution_count": 54
        }
      ]
    },
    {
      "cell_type": "code",
      "metadata": {
        "colab": {
          "base_uri": "https://localhost:8080/",
          "height": 206
        },
        "id": "cdN-Nv3w__4W",
        "outputId": "72b21ab0-2556-4dd6-ee11-efc78e3bbc9e"
      },
      "source": [
        "future.tail()"
      ],
      "execution_count": null,
      "outputs": [
        {
          "output_type": "execute_result",
          "data": {
            "text/html": [
              "<div>\n",
              "<style scoped>\n",
              "    .dataframe tbody tr th:only-of-type {\n",
              "        vertical-align: middle;\n",
              "    }\n",
              "\n",
              "    .dataframe tbody tr th {\n",
              "        vertical-align: top;\n",
              "    }\n",
              "\n",
              "    .dataframe thead th {\n",
              "        text-align: right;\n",
              "    }\n",
              "</style>\n",
              "<table border=\"1\" class=\"dataframe\">\n",
              "  <thead>\n",
              "    <tr style=\"text-align: right;\">\n",
              "      <th></th>\n",
              "      <th>ds</th>\n",
              "    </tr>\n",
              "  </thead>\n",
              "  <tbody>\n",
              "    <tr>\n",
              "      <th>624</th>\n",
              "      <td>2021-12-06</td>\n",
              "    </tr>\n",
              "    <tr>\n",
              "      <th>625</th>\n",
              "      <td>2021-12-07</td>\n",
              "    </tr>\n",
              "    <tr>\n",
              "      <th>626</th>\n",
              "      <td>2021-12-08</td>\n",
              "    </tr>\n",
              "    <tr>\n",
              "      <th>627</th>\n",
              "      <td>2021-12-09</td>\n",
              "    </tr>\n",
              "    <tr>\n",
              "      <th>628</th>\n",
              "      <td>2021-12-10</td>\n",
              "    </tr>\n",
              "  </tbody>\n",
              "</table>\n",
              "</div>"
            ],
            "text/plain": [
              "            ds\n",
              "624 2021-12-06\n",
              "625 2021-12-07\n",
              "626 2021-12-08\n",
              "627 2021-12-09\n",
              "628 2021-12-10"
            ]
          },
          "metadata": {},
          "execution_count": 55
        }
      ]
    },
    {
      "cell_type": "code",
      "metadata": {
        "id": "B9wfTbVWzbEc"
      },
      "source": [
        "\n",
        "pd.set_option('display.float_format', lambda x: '%.5f' % x)"
      ],
      "execution_count": null,
      "outputs": []
    },
    {
      "cell_type": "markdown",
      "metadata": {
        "id": "Q4sP_7K5x9lT"
      },
      "source": [
        "Let us plot the forecast by calling the Prophet.plot method and passing in our forecast dataframe."
      ]
    },
    {
      "cell_type": "code",
      "metadata": {
        "id": "8dZzzX4KHcZI",
        "colab": {
          "base_uri": "https://localhost:8080/",
          "height": 363
        },
        "outputId": "71fab398-037a-4e17-9afd-70ec080d9343"
      },
      "source": [
        "\n",
        "forecast = m.predict(future)\n",
        "forecast[['ds', 'yhat', 'yhat_lower', 'yhat_upper']].tail(10)"
      ],
      "execution_count": null,
      "outputs": [
        {
          "output_type": "execute_result",
          "data": {
            "text/html": [
              "<div>\n",
              "<style scoped>\n",
              "    .dataframe tbody tr th:only-of-type {\n",
              "        vertical-align: middle;\n",
              "    }\n",
              "\n",
              "    .dataframe tbody tr th {\n",
              "        vertical-align: top;\n",
              "    }\n",
              "\n",
              "    .dataframe thead th {\n",
              "        text-align: right;\n",
              "    }\n",
              "</style>\n",
              "<table border=\"1\" class=\"dataframe\">\n",
              "  <thead>\n",
              "    <tr style=\"text-align: right;\">\n",
              "      <th></th>\n",
              "      <th>ds</th>\n",
              "      <th>yhat</th>\n",
              "      <th>yhat_lower</th>\n",
              "      <th>yhat_upper</th>\n",
              "    </tr>\n",
              "  </thead>\n",
              "  <tbody>\n",
              "    <tr>\n",
              "      <th>619</th>\n",
              "      <td>2021-12-01</td>\n",
              "      <td>2803115.69559</td>\n",
              "      <td>2486328.59534</td>\n",
              "      <td>3116272.91183</td>\n",
              "    </tr>\n",
              "    <tr>\n",
              "      <th>620</th>\n",
              "      <td>2021-12-02</td>\n",
              "      <td>2812934.04834</td>\n",
              "      <td>2500901.54881</td>\n",
              "      <td>3155491.16205</td>\n",
              "    </tr>\n",
              "    <tr>\n",
              "      <th>621</th>\n",
              "      <td>2021-12-03</td>\n",
              "      <td>2822269.14759</td>\n",
              "      <td>2508160.96937</td>\n",
              "      <td>3165020.01904</td>\n",
              "    </tr>\n",
              "    <tr>\n",
              "      <th>622</th>\n",
              "      <td>2021-12-04</td>\n",
              "      <td>2825127.19088</td>\n",
              "      <td>2500341.48781</td>\n",
              "      <td>3154311.78020</td>\n",
              "    </tr>\n",
              "    <tr>\n",
              "      <th>623</th>\n",
              "      <td>2021-12-05</td>\n",
              "      <td>2836032.87220</td>\n",
              "      <td>2495600.91617</td>\n",
              "      <td>3170209.92578</td>\n",
              "    </tr>\n",
              "    <tr>\n",
              "      <th>624</th>\n",
              "      <td>2021-12-06</td>\n",
              "      <td>2843285.82170</td>\n",
              "      <td>2513801.32650</td>\n",
              "      <td>3206428.10695</td>\n",
              "    </tr>\n",
              "    <tr>\n",
              "      <th>625</th>\n",
              "      <td>2021-12-07</td>\n",
              "      <td>2850259.85350</td>\n",
              "      <td>2507396.30822</td>\n",
              "      <td>3215626.20347</td>\n",
              "    </tr>\n",
              "    <tr>\n",
              "      <th>626</th>\n",
              "      <td>2021-12-08</td>\n",
              "      <td>2860631.59304</td>\n",
              "      <td>2529719.46643</td>\n",
              "      <td>3240044.67593</td>\n",
              "    </tr>\n",
              "    <tr>\n",
              "      <th>627</th>\n",
              "      <td>2021-12-09</td>\n",
              "      <td>2870449.94579</td>\n",
              "      <td>2529617.67200</td>\n",
              "      <td>3248086.60225</td>\n",
              "    </tr>\n",
              "    <tr>\n",
              "      <th>628</th>\n",
              "      <td>2021-12-10</td>\n",
              "      <td>2879785.04504</td>\n",
              "      <td>2535124.48682</td>\n",
              "      <td>3244042.64026</td>\n",
              "    </tr>\n",
              "  </tbody>\n",
              "</table>\n",
              "</div>"
            ],
            "text/plain": [
              "            ds          yhat    yhat_lower    yhat_upper\n",
              "619 2021-12-01 2803115.69559 2486328.59534 3116272.91183\n",
              "620 2021-12-02 2812934.04834 2500901.54881 3155491.16205\n",
              "621 2021-12-03 2822269.14759 2508160.96937 3165020.01904\n",
              "622 2021-12-04 2825127.19088 2500341.48781 3154311.78020\n",
              "623 2021-12-05 2836032.87220 2495600.91617 3170209.92578\n",
              "624 2021-12-06 2843285.82170 2513801.32650 3206428.10695\n",
              "625 2021-12-07 2850259.85350 2507396.30822 3215626.20347\n",
              "626 2021-12-08 2860631.59304 2529719.46643 3240044.67593\n",
              "627 2021-12-09 2870449.94579 2529617.67200 3248086.60225\n",
              "628 2021-12-10 2879785.04504 2535124.48682 3244042.64026"
            ]
          },
          "metadata": {},
          "execution_count": 57
        }
      ]
    },
    {
      "cell_type": "code",
      "metadata": {
        "id": "0RTiYSG-xd0K",
        "colab": {
          "base_uri": "https://localhost:8080/",
          "height": 441
        },
        "outputId": "ff3c844f-f9da-4165-ecca-1154a36eea97"
      },
      "source": [
        "confirmed_forecast_plot = m.plot(forecast)"
      ],
      "execution_count": null,
      "outputs": [
        {
          "output_type": "display_data",
          "data": {
            "image/png": "[encoded data removed]",
            "text/plain": [
              "<Figure size 720x432 with 1 Axes>"
            ]
          },
          "metadata": {}
        }
      ]
    },
    {
      "cell_type": "code",
      "metadata": {
        "id": "Ww_-0h3IyOSx",
        "colab": {
          "base_uri": "https://localhost:8080/",
          "height": 441
        },
        "outputId": "c2290c41-bbde-4558-ff86-f1eca1cea1cf"
      },
      "source": [
        "confirmed_forecast_plot = m.plot_components(forecast)"
      ],
      "execution_count": null,
      "outputs": [
        {
          "output_type": "display_data",
          "data": {
            "image/png": "[encoded data removed]",
            "text/plain": [
              "<Figure size 648x432 with 2 Axes>"
            ]
          },
          "metadata": {}
        }
      ]
    },
    {
      "cell_type": "markdown",
      "metadata": {
        "id": "uy1WWJu7pw5s"
      },
      "source": [
        "## ARIMA MODEL"
      ]
    },
    {
      "cell_type": "code",
      "metadata": {
        "id": "yodqXvZCf_KW"
      },
      "source": [
        "df_input.set_index('ds',inplace=True)"
      ],
      "execution_count": null,
      "outputs": []
    },
    {
      "cell_type": "code",
      "metadata": {
        "colab": {
          "base_uri": "https://localhost:8080/",
          "height": 238
        },
        "id": "_eUnJ7L7Tto5",
        "outputId": "7b63a1b3-4044-4450-caab-ceb7d3e47183"
      },
      "source": [
        "df_input.head()"
      ],
      "execution_count": null,
      "outputs": [
        {
          "output_type": "execute_result",
          "data": {
            "text/html": [
              "<div>\n",
              "<style scoped>\n",
              "    .dataframe tbody tr th:only-of-type {\n",
              "        vertical-align: middle;\n",
              "    }\n",
              "\n",
              "    .dataframe tbody tr th {\n",
              "        vertical-align: top;\n",
              "    }\n",
              "\n",
              "    .dataframe thead th {\n",
              "        text-align: right;\n",
              "    }\n",
              "</style>\n",
              "<table border=\"1\" class=\"dataframe\">\n",
              "  <thead>\n",
              "    <tr style=\"text-align: right;\">\n",
              "      <th></th>\n",
              "      <th>y</th>\n",
              "    </tr>\n",
              "    <tr>\n",
              "      <th>ds</th>\n",
              "      <th></th>\n",
              "    </tr>\n",
              "  </thead>\n",
              "  <tbody>\n",
              "    <tr>\n",
              "      <th>2020-03-12</th>\n",
              "      <td>6</td>\n",
              "    </tr>\n",
              "    <tr>\n",
              "      <th>2020-03-13</th>\n",
              "      <td>6</td>\n",
              "    </tr>\n",
              "    <tr>\n",
              "      <th>2020-03-14</th>\n",
              "      <td>7</td>\n",
              "    </tr>\n",
              "    <tr>\n",
              "      <th>2020-03-15</th>\n",
              "      <td>7</td>\n",
              "    </tr>\n",
              "    <tr>\n",
              "      <th>2020-03-16</th>\n",
              "      <td>7</td>\n",
              "    </tr>\n",
              "  </tbody>\n",
              "</table>\n",
              "</div>"
            ],
            "text/plain": [
              "            y\n",
              "ds           \n",
              "2020-03-12  6\n",
              "2020-03-13  6\n",
              "2020-03-14  7\n",
              "2020-03-15  7\n",
              "2020-03-16  7"
            ]
          },
          "metadata": {},
          "execution_count": 61
        }
      ]
    },
    {
      "cell_type": "markdown",
      "metadata": {
        "id": "iuWdjdDC5wsU"
      },
      "source": [
        "## Visualizing the Data"
      ]
    },
    {
      "cell_type": "code",
      "metadata": {
        "colab": {
          "base_uri": "https://localhost:8080/",
          "height": 306
        },
        "id": "vYB3TD-45vNQ",
        "outputId": "52c02587-1301-4563-c507-91aa304940c3"
      },
      "source": [
        "df_input.plot(grid = True)"
      ],
      "execution_count": null,
      "outputs": [
        {
          "output_type": "execute_result",
          "data": {
            "text/plain": [
              "<matplotlib.axes._subplots.AxesSubplot at 0x7f2a4ba769d0>"
            ]
          },
          "metadata": {},
          "execution_count": 62
        },
        {
          "output_type": "display_data",
          "data": {
            "image/png": "[encoded data removed]",
            "text/plain": [
              "<Figure size 432x288 with 1 Axes>"
            ]
          },
          "metadata": {
            "needs_background": "light"
          }
        }
      ]
    },
    {
      "cell_type": "code",
      "metadata": {
        "id": "0_9Llv8UqFPO"
      },
      "source": [
        "rollmean = df_input.rolling(window = 30).mean()\n",
        "rollstd = df_input.rolling(window = 30).std()"
      ],
      "execution_count": null,
      "outputs": []
    },
    {
      "cell_type": "markdown",
      "metadata": {
        "id": "f8P9Lwkq4ieq"
      },
      "source": [
        "## Testing For Stationarity"
      ]
    },
    {
      "cell_type": "code",
      "metadata": {
        "colab": {
          "base_uri": "https://localhost:8080/",
          "height": 294
        },
        "id": "83N6PCVFtudi",
        "outputId": "d1eca31b-7137-4cf5-ad06-372e60582d64"
      },
      "source": [
        "plt.plot(df_input.index, df_input['y'], color = 'blue', label = 'original')\n",
        "plt.grid()\n",
        "plt.plot(rollmean, color = 'red', label = 'Rolling Mean')\n",
        "plt.plot(rollstd, color = 'black', label = 'Rolling Deviation')\n"
      ],
      "execution_count": null,
      "outputs": [
        {
          "output_type": "execute_result",
          "data": {
            "text/plain": [
              "[<matplotlib.lines.Line2D at 0x7f2a4baebc10>]"
            ]
          },
          "metadata": {},
          "execution_count": 64
        },
        {
          "output_type": "display_data",
          "data": {
            "image/png": "[encoded data removed]",
            "text/plain": [
              "<Figure size 432x288 with 1 Axes>"
            ]
          },
          "metadata": {
            "needs_background": "light"
          }
        }
      ]
    },
    {
      "cell_type": "markdown",
      "metadata": {
        "id": "2J4404-Zx9lB"
      },
      "source": [
        "**By plotting the rolling mean and rolling deviation we can see that the data is non stationary. We will perform another test called as the Dicky Fuller Test to ascertain the same**"
      ]
    },
    {
      "cell_type": "code",
      "metadata": {
        "id": "LoifpC6X3hV_"
      },
      "source": [
        "from statsmodels.tsa.stattools import adfuller"
      ],
      "execution_count": null,
      "outputs": []
    },
    {
      "cell_type": "code",
      "metadata": {
        "id": "rLf_af9b4lW6"
      },
      "source": [
        "test_result = adfuller(df_input['y'])"
      ],
      "execution_count": null,
      "outputs": []
    },
    {
      "cell_type": "code",
      "metadata": {
        "id": "MQwCsAHd43Ya"
      },
      "source": [
        "#Ho: It is non stationary\n",
        "#H1: It is stationary\n",
        "\n",
        "def adfuller_test(y):\n",
        "    result=adfuller(y)\n",
        "    labels = ['ADF Test Statistic','p-value','#Lags Used','Number of Observations Used']\n",
        "    for value,label in zip(result,labels):\n",
        "        print(label+' : '+str(value) )\n",
        "    if result[1] <= 0.05:\n",
        "        print(\"strong evidence against the null hypothesis(Ho), reject the null hypothesis. Data has no unit root and is stationary\")\n",
        "    else:\n",
        "        print(\"weak evidence against null hypothesis, time series has a unit root, indicating it is non-stationary \")\n",
        "    "
      ],
      "execution_count": null,
      "outputs": []
    },
    {
      "cell_type": "code",
      "metadata": {
        "colab": {
          "base_uri": "https://localhost:8080/"
        },
        "id": "LN9L1-a85Qgt",
        "outputId": "989e8160-5867-4e2b-cf22-ba123cbd9db2"
      },
      "source": [
        "adfuller_test(df_input['y'])"
      ],
      "execution_count": null,
      "outputs": [
        {
          "output_type": "stream",
          "name": "stdout",
          "text": [
            "ADF Test Statistic : -0.4998657801901546\n",
            "p-value : 0.8920426860205182\n",
            "#Lags Used : 15\n",
            "Number of Observations Used : 583\n",
            "weak evidence against null hypothesis, time series has a unit root, indicating it is non-stationary \n"
          ]
        }
      ]
    },
    {
      "cell_type": "markdown",
      "metadata": {
        "id": "aVA8Tcff4FQ1"
      },
      "source": [
        "**Plotting Log graph**"
      ]
    },
    {
      "cell_type": "code",
      "metadata": {
        "colab": {
          "base_uri": "https://localhost:8080/",
          "height": 265
        },
        "id": "Cm9Yri1A4QEr",
        "outputId": "ff2eb0fc-390b-47f5-9e26-ec1a8918dd08"
      },
      "source": [
        "log_scale = np.log(df_input)\n",
        "plt.plot(log_scale, color = 'blue')\n",
        "plt.grid()"
      ],
      "execution_count": null,
      "outputs": [
        {
          "output_type": "display_data",
          "data": {
            "image/png": "[encoded data removed]",
            "text/plain": [
              "<Figure size 432x288 with 1 Axes>"
            ]
          },
          "metadata": {
            "needs_background": "light"
          }
        }
      ]
    },
    {
      "cell_type": "code",
      "metadata": {
        "colab": {
          "base_uri": "https://localhost:8080/",
          "height": 282
        },
        "id": "w16XeMt_8Qo3",
        "outputId": "33f6d415-4394-4197-c689-d3b607b8539e"
      },
      "source": [
        "movingAverage = log_scale.rolling(window = 30).mean()\n",
        "movingStd = log_scale.rolling(window =30).std()\n",
        "plt.plot(log_scale)\n",
        "plt.plot(movingAverage, color = 'red')"
      ],
      "execution_count": null,
      "outputs": [
        {
          "output_type": "execute_result",
          "data": {
            "text/plain": [
              "[<matplotlib.lines.Line2D at 0x7f2a4a47fc50>]"
            ]
          },
          "metadata": {},
          "execution_count": 70
        },
        {
          "output_type": "display_data",
          "data": {
            "image/png": "[encoded data removed]",
            "text/plain": [
              "<Figure size 432x288 with 1 Axes>"
            ]
          },
          "metadata": {
            "needs_background": "light"
          }
        }
      ]
    },
    {
      "cell_type": "markdown",
      "metadata": {
        "id": "jWM3Q0S54ku4"
      },
      "source": [
        "**Transformation - 1: Log Scale Graph - Moving Average**"
      ]
    },
    {
      "cell_type": "code",
      "metadata": {
        "colab": {
          "base_uri": "https://localhost:8080/",
          "height": 394
        },
        "id": "19DwNlJH9In-",
        "outputId": "1c7af1a8-7e81-4540-e7aa-7717e0851349"
      },
      "source": [
        "logscaleminusmovingavg = log_scale - movingAverage\n",
        "logscaleminusmovingavg.dropna(inplace = True)\n",
        "logscaleminusmovingavg.head(10)"
      ],
      "execution_count": null,
      "outputs": [
        {
          "output_type": "execute_result",
          "data": {
            "text/html": [
              "<div>\n",
              "<style scoped>\n",
              "    .dataframe tbody tr th:only-of-type {\n",
              "        vertical-align: middle;\n",
              "    }\n",
              "\n",
              "    .dataframe tbody tr th {\n",
              "        vertical-align: top;\n",
              "    }\n",
              "\n",
              "    .dataframe thead th {\n",
              "        text-align: right;\n",
              "    }\n",
              "</style>\n",
              "<table border=\"1\" class=\"dataframe\">\n",
              "  <thead>\n",
              "    <tr style=\"text-align: right;\">\n",
              "      <th></th>\n",
              "      <th>y</th>\n",
              "    </tr>\n",
              "    <tr>\n",
              "      <th>ds</th>\n",
              "      <th></th>\n",
              "    </tr>\n",
              "  </thead>\n",
              "  <tbody>\n",
              "    <tr>\n",
              "      <th>2020-04-10</th>\n",
              "      <td>2.64139</td>\n",
              "    </tr>\n",
              "    <tr>\n",
              "      <th>2020-04-11</th>\n",
              "      <td>2.70073</td>\n",
              "    </tr>\n",
              "    <tr>\n",
              "      <th>2020-04-12</th>\n",
              "      <td>2.69673</td>\n",
              "    </tr>\n",
              "    <tr>\n",
              "      <th>2020-04-13</th>\n",
              "      <td>2.60307</td>\n",
              "    </tr>\n",
              "    <tr>\n",
              "      <th>2020-04-14</th>\n",
              "      <td>2.69281</td>\n",
              "    </tr>\n",
              "    <tr>\n",
              "      <th>2020-04-15</th>\n",
              "      <td>2.54579</td>\n",
              "    </tr>\n",
              "    <tr>\n",
              "      <th>2020-04-16</th>\n",
              "      <td>2.38047</td>\n",
              "    </tr>\n",
              "    <tr>\n",
              "      <th>2020-04-17</th>\n",
              "      <td>2.24901</td>\n",
              "    </tr>\n",
              "    <tr>\n",
              "      <th>2020-04-18</th>\n",
              "      <td>2.12380</td>\n",
              "    </tr>\n",
              "    <tr>\n",
              "      <th>2020-04-19</th>\n",
              "      <td>2.07014</td>\n",
              "    </tr>\n",
              "  </tbody>\n",
              "</table>\n",
              "</div>"
            ],
            "text/plain": [
              "                 y\n",
              "ds                \n",
              "2020-04-10 2.64139\n",
              "2020-04-11 2.70073\n",
              "2020-04-12 2.69673\n",
              "2020-04-13 2.60307\n",
              "2020-04-14 2.69281\n",
              "2020-04-15 2.54579\n",
              "2020-04-16 2.38047\n",
              "2020-04-17 2.24901\n",
              "2020-04-18 2.12380\n",
              "2020-04-19 2.07014"
            ]
          },
          "metadata": {},
          "execution_count": 71
        }
      ]
    },
    {
      "cell_type": "code",
      "metadata": {
        "id": "YNzTyMXT9y3f"
      },
      "source": [
        "def teststationarity(timeseries):\n",
        "\n",
        "  # Determine rolling statistics\n",
        "  movingAverage = timeseries.rolling(window=30).mean()\n",
        "  movingStd = timeseries.rolling(window=30).std()\n",
        "\n",
        "  # Plot rolling statistics\n",
        "  orig = plt.plot(timeseries, color = 'blue', label = 'Original')\n",
        "  orig = plt.plot(movingAverage, color = 'red', label = 'Moving Average')\n",
        "  orig = plt.plot(movingStd, color = 'black', label = 'Moving Standard Deviation')"
      ],
      "execution_count": null,
      "outputs": []
    },
    {
      "cell_type": "code",
      "metadata": {
        "colab": {
          "base_uri": "https://localhost:8080/",
          "height": 265
        },
        "id": "P-OI9JtR_Xp8",
        "outputId": "2231846c-d7a2-45d5-aeb8-4fa3ab1f1c21"
      },
      "source": [
        "teststationarity(logscaleminusmovingavg['y'])"
      ],
      "execution_count": null,
      "outputs": [
        {
          "output_type": "display_data",
          "data": {
            "image/png": "[encoded data removed]",
            "text/plain": [
              "<Figure size 432x288 with 1 Axes>"
            ]
          },
          "metadata": {
            "needs_background": "light"
          }
        }
      ]
    },
    {
      "cell_type": "code",
      "metadata": {
        "colab": {
          "base_uri": "https://localhost:8080/"
        },
        "id": "8HPvQWA9_4P1",
        "outputId": "0df3f5f8-dffb-46fe-84ee-f8fc7becfffd"
      },
      "source": [
        "adfuller_test(logscaleminusmovingavg['y'])"
      ],
      "execution_count": null,
      "outputs": [
        {
          "output_type": "stream",
          "name": "stdout",
          "text": [
            "ADF Test Statistic : -3.0143125672725812\n",
            "p-value : 0.03357923309878203\n",
            "#Lags Used : 19\n",
            "Number of Observations Used : 550\n",
            "strong evidence against the null hypothesis(Ho), reject the null hypothesis. Data has no unit root and is stationary\n"
          ]
        }
      ]
    },
    {
      "cell_type": "code",
      "metadata": {
        "colab": {
          "base_uri": "https://localhost:8080/",
          "height": 282
        },
        "id": "FDekshA1BhNa",
        "outputId": "4155f817-4752-4ef2-c51b-3ac9c9dd1e4c"
      },
      "source": [
        "exponentialdecayweightedavg = log_scale.ewm(halflife = 30, min_periods =0, adjust=True).mean()\n",
        "plt.plot(log_scale)\n",
        "plt.plot(exponentialdecayweightedavg, color = 'red')"
      ],
      "execution_count": null,
      "outputs": [
        {
          "output_type": "execute_result",
          "data": {
            "text/plain": [
              "[<matplotlib.lines.Line2D at 0x7f2a4a37cd90>]"
            ]
          },
          "metadata": {},
          "execution_count": 75
        },
        {
          "output_type": "display_data",
          "data": {
            "image/png": "[encoded data removed]",
            "text/plain": [
              "<Figure size 432x288 with 1 Axes>"
            ]
          },
          "metadata": {
            "needs_background": "light"
          }
        }
      ]
    },
    {
      "cell_type": "markdown",
      "metadata": {
        "id": "jhWp-3dK4u7j"
      },
      "source": [
        "**Transformation - 2: Log Scale Graph - Weighted Average**"
      ]
    },
    {
      "cell_type": "code",
      "metadata": {
        "colab": {
          "base_uri": "https://localhost:8080/",
          "height": 265
        },
        "id": "Q1pjowT3PC1j",
        "outputId": "3d83a0c8-8dc6-4cd3-db51-54074771c29e"
      },
      "source": [
        "logscaleminusweightedavg = log_scale - exponentialdecayweightedavg\n",
        "teststationarity(logscaleminusmovingavg)"
      ],
      "execution_count": null,
      "outputs": [
        {
          "output_type": "display_data",
          "data": {
            "image/png": "[encoded data removed]",
            "text/plain": [
              "<Figure size 432x288 with 1 Axes>"
            ]
          },
          "metadata": {
            "needs_background": "light"
          }
        }
      ]
    },
    {
      "cell_type": "code",
      "metadata": {
        "colab": {
          "base_uri": "https://localhost:8080/",
          "height": 265
        },
        "id": "s__hxtoi5kny",
        "outputId": "1b9d59be-2138-4e85-d152-9fa28bc4fc21"
      },
      "source": [
        "teststationarity(logscaleminusweightedavg)"
      ],
      "execution_count": null,
      "outputs": [
        {
          "output_type": "display_data",
          "data": {
            "image/png": "[encoded data removed]",
            "text/plain": [
              "<Figure size 432x288 with 1 Axes>"
            ]
          },
          "metadata": {
            "needs_background": "light"
          }
        }
      ]
    },
    {
      "cell_type": "code",
      "metadata": {
        "colab": {
          "base_uri": "https://localhost:8080/"
        },
        "id": "Tb9I5fQhSSpF",
        "outputId": "cb55b9d5-334f-44d5-adf0-e7b0985f8ee6"
      },
      "source": [
        "adfuller_test(logscaleminusweightedavg['y'])"
      ],
      "execution_count": null,
      "outputs": [
        {
          "output_type": "stream",
          "name": "stdout",
          "text": [
            "ADF Test Statistic : -1.3176173746859725\n",
            "p-value : 0.6210742990126892\n",
            "#Lags Used : 18\n",
            "Number of Observations Used : 580\n",
            "weak evidence against null hypothesis, time series has a unit root, indicating it is non-stationary \n"
          ]
        }
      ]
    },
    {
      "cell_type": "markdown",
      "metadata": {
        "id": "o1RkQLx54-Nk"
      },
      "source": [
        "**Transformation - 3: Shifting and Subtracting the Log Scale Graph**"
      ]
    },
    {
      "cell_type": "code",
      "metadata": {
        "colab": {
          "base_uri": "https://localhost:8080/",
          "height": 282
        },
        "id": "kA7XUgCu4ATz",
        "outputId": "88807a33-c919-4379-9c9a-e4781f5f385e"
      },
      "source": [
        "logdifshifting = log_scale - log_scale.shift()\n",
        "plt.plot(logdifshifting)"
      ],
      "execution_count": null,
      "outputs": [
        {
          "output_type": "execute_result",
          "data": {
            "text/plain": [
              "[<matplotlib.lines.Line2D at 0x7f2a4a24c4d0>]"
            ]
          },
          "metadata": {},
          "execution_count": 79
        },
        {
          "output_type": "display_data",
          "data": {
            "image/png": "[encoded data removed]",
            "text/plain": [
              "<Figure size 432x288 with 1 Axes>"
            ]
          },
          "metadata": {
            "needs_background": "light"
          }
        }
      ]
    },
    {
      "cell_type": "code",
      "metadata": {
        "colab": {
          "base_uri": "https://localhost:8080/",
          "height": 265
        },
        "id": "SJ-_m9Cs5Iq9",
        "outputId": "2eae8ac0-9c58-449d-9e12-bc5480e43ecc"
      },
      "source": [
        "logdifshifting.dropna(inplace = True)\n",
        "teststationarity(logdifshifting)"
      ],
      "execution_count": null,
      "outputs": [
        {
          "output_type": "display_data",
          "data": {
            "image/png": "[encoded data removed]",
            "text/plain": [
              "<Figure size 432x288 with 1 Axes>"
            ]
          },
          "metadata": {
            "needs_background": "light"
          }
        }
      ]
    },
    {
      "cell_type": "code",
      "metadata": {
        "colab": {
          "base_uri": "https://localhost:8080/"
        },
        "id": "Ryc2e19P5UVv",
        "outputId": "f8d7e611-b351-457b-f338-14cf29f98d6b"
      },
      "source": [
        "adfuller_test(logdifshifting['y'])"
      ],
      "execution_count": null,
      "outputs": [
        {
          "output_type": "stream",
          "name": "stdout",
          "text": [
            "ADF Test Statistic : -8.28378253837957\n",
            "p-value : 4.4467629353238153e-13\n",
            "#Lags Used : 19\n",
            "Number of Observations Used : 578\n",
            "strong evidence against the null hypothesis(Ho), reject the null hypothesis. Data has no unit root and is stationary\n"
          ]
        }
      ]
    },
    {
      "cell_type": "markdown",
      "metadata": {
        "id": "xafRHxMB3hqJ"
      },
      "source": [
        "## ACF Plot"
      ]
    },
    {
      "cell_type": "code",
      "metadata": {
        "id": "ccqqU3IdS68B",
        "colab": {
          "base_uri": "https://localhost:8080/",
          "height": 562
        },
        "outputId": "b94b89fa-0e47-440a-b490-98c703e4888a"
      },
      "source": [
        "from statsmodels.tsa.stattools import acf, pacf\n",
        "lag_acf = acf(logscaleminusmovingavg)\n",
        "lag_pacf = pacf(logscaleminusmovingavg)\n",
        "\n",
        "# Plot ACF\n",
        "plt.subplots()\n",
        "plt.plot(lag_acf)\n",
        "plt.axhline(y=0, linestyle='--', color = 'gray')\n",
        "plt.axhline(y=-1.96/np.sqrt(len(logscaleminusmovingavg)), linestyle='--', color = 'gray')\n",
        "plt.axhline(y=1.96/np.sqrt(len(logscaleminusmovingavg)), linestyle='--', color = 'gray')\n",
        "plt.title('Autocorrelation Function')\n",
        "\n",
        "# Plot PACF\n",
        "plt.subplots()\n",
        "plt.plot(lag_pacf)\n",
        "plt.axhline(y=0, linestyle='--', color = 'gray')\n",
        "plt.axhline(y=-1.96/np.sqrt(len(logscaleminusmovingavg)), linestyle='--', color = 'gray')\n",
        "plt.axhline(y=1.96/np.sqrt(len(logscaleminusmovingavg)), linestyle='--', color = 'gray')\n",
        "plt.title('Partial Autocorrelation Function')\n"
      ],
      "execution_count": null,
      "outputs": [
        {
          "output_type": "execute_result",
          "data": {
            "text/plain": [
              "Text(0.5, 1.0, 'Partial Autocorrelation Function')"
            ]
          },
          "metadata": {},
          "execution_count": 82
        },
        {
          "output_type": "display_data",
          "data": {
            "image/png": "[encoded data removed]",
            "text/plain": [
              "<Figure size 432x288 with 1 Axes>"
            ]
          },
          "metadata": {
            "needs_background": "light"
          }
        },
        {
          "output_type": "display_data",
          "data": {
            "image/png": "[encoded data removed]",
            "text/plain": [
              "<Figure size 432x288 with 1 Axes>"
            ]
          },
          "metadata": {
            "needs_background": "light"
          }
        }
      ]
    },
    {
      "cell_type": "code",
      "metadata": {
        "colab": {
          "base_uri": "https://localhost:8080/",
          "height": 300
        },
        "id": "AOaY0WzkfOS3",
        "outputId": "31da9c4f-7e27-4878-89c3-f4acc6bfb1f3"
      },
      "source": [
        "from pandas.plotting import autocorrelation_plot\n",
        "autocorrelation_plot(df_input)"
      ],
      "execution_count": null,
      "outputs": [
        {
          "output_type": "execute_result",
          "data": {
            "text/plain": [
              "<matplotlib.axes._subplots.AxesSubplot at 0x7f2a4a13be90>"
            ]
          },
          "metadata": {},
          "execution_count": 83
        },
        {
          "output_type": "display_data",
          "data": {
            "image/png": "[encoded data removed]",
            "text/plain": [
              "<Figure size 432x288 with 1 Axes>"
            ]
          },
          "metadata": {
            "needs_background": "light"
          }
        }
      ]
    },
    {
      "cell_type": "code",
      "metadata": {
        "colab": {
          "base_uri": "https://localhost:8080/",
          "height": 421
        },
        "id": "4wHJXyyGdzIi",
        "outputId": "e9d5da77-6fbc-4d7d-95f4-9774c359760b"
      },
      "source": [
        "from statsmodels.tsa.arima_model import ARIMA\n",
        "\n",
        "# AR Model\n",
        "model = ARIMA(log_scale, order = (3,1,4))\n",
        "results_AR = model.fit(disp = 1)\n",
        "plt.plot(logscaleminusmovingavg)\n",
        "plt.plot(results_AR.fittedvalues, color = 'red')"
      ],
      "execution_count": null,
      "outputs": [
        {
          "output_type": "stream",
          "name": "stderr",
          "text": [
            "/usr/local/lib/python3.7/dist-packages/statsmodels/tsa/base/tsa_model.py:219: ValueWarning:\n",
            "\n",
            "A date index has been provided, but it has no associated frequency information and so will be ignored when e.g. forecasting.\n",
            "\n",
            "/usr/local/lib/python3.7/dist-packages/statsmodels/tsa/base/tsa_model.py:219: ValueWarning:\n",
            "\n",
            "A date index has been provided, but it has no associated frequency information and so will be ignored when e.g. forecasting.\n",
            "\n"
          ]
        },
        {
          "output_type": "execute_result",
          "data": {
            "text/plain": [
              "[<matplotlib.lines.Line2D at 0x7f2a47f84990>]"
            ]
          },
          "metadata": {},
          "execution_count": 84
        },
        {
          "output_type": "display_data",
          "data": {
            "image/png": "[encoded data removed]",
            "text/plain": [
              "<Figure size 432x288 with 1 Axes>"
            ]
          },
          "metadata": {
            "needs_background": "light"
          }
        }
      ]
    },
    {
      "cell_type": "code",
      "metadata": {
        "colab": {
          "base_uri": "https://localhost:8080/",
          "height": 537
        },
        "id": "mrBzy9bOgyOc",
        "outputId": "732a05f2-abfd-4e32-c705-5a2c9e1a2062"
      },
      "source": [
        "pip install pmdarima"
      ],
      "execution_count": null,
      "outputs": [
        {
          "output_type": "stream",
          "name": "stdout",
          "text": [
            "Collecting pmdarima\n",
            "  Downloading pmdarima-1.8.4-cp37-cp37m-manylinux_2_17_x86_64.manylinux2014_x86_64.manylinux_2_24_x86_64.whl (1.4 MB)\n",
            "\u001b[K     |████████████████████████████████| 1.4 MB 5.2 MB/s \n",
            "\u001b[?25hRequirement already satisfied: numpy>=1.19.3 in /usr/local/lib/python3.7/dist-packages (from pmdarima) (1.19.5)\n",
            "Requirement already satisfied: setuptools!=50.0.0,>=38.6.0 in /usr/local/lib/python3.7/dist-packages (from pmdarima) (57.4.0)\n",
            "Requirement already satisfied: scikit-learn>=0.22 in /usr/local/lib/python3.7/dist-packages (from pmdarima) (1.0.1)\n",
            "Requirement already satisfied: joblib>=0.11 in /usr/local/lib/python3.7/dist-packages (from pmdarima) (1.1.0)\n",
            "Requirement already satisfied: Cython!=0.29.18,>=0.29 in /usr/local/lib/python3.7/dist-packages (from pmdarima) (0.29.24)\n",
            "Collecting statsmodels!=0.12.0,>=0.11\n",
            "  Downloading statsmodels-0.13.1-cp37-cp37m-manylinux_2_17_x86_64.manylinux2014_x86_64.whl (9.8 MB)\n",
            "\u001b[K     |████████████████████████████████| 9.8 MB 41.7 MB/s \n",
            "\u001b[?25hRequirement already satisfied: urllib3 in /usr/local/lib/python3.7/dist-packages (from pmdarima) (1.24.3)\n",
            "Requirement already satisfied: pandas>=0.19 in /usr/local/lib/python3.7/dist-packages (from pmdarima) (1.1.5)\n",
            "Requirement already satisfied: scipy>=1.3.2 in /usr/local/lib/python3.7/dist-packages (from pmdarima) (1.4.1)\n",
            "Requirement already satisfied: python-dateutil>=2.7.3 in /usr/local/lib/python3.7/dist-packages (from pandas>=0.19->pmdarima) (2.8.2)\n",
            "Requirement already satisfied: pytz>=2017.2 in /usr/local/lib/python3.7/dist-packages (from pandas>=0.19->pmdarima) (2018.9)\n",
            "Requirement already satisfied: six>=1.5 in /usr/local/lib/python3.7/dist-packages (from python-dateutil>=2.7.3->pandas>=0.19->pmdarima) (1.15.0)\n",
            "Requirement already satisfied: threadpoolctl>=2.0.0 in /usr/local/lib/python3.7/dist-packages (from scikit-learn>=0.22->pmdarima) (3.0.0)\n",
            "Requirement already satisfied: patsy>=0.5.2 in /usr/local/lib/python3.7/dist-packages (from statsmodels!=0.12.0,>=0.11->pmdarima) (0.5.2)\n",
            "Installing collected packages: statsmodels, pmdarima\n",
            "  Attempting uninstall: statsmodels\n",
            "    Found existing installation: statsmodels 0.10.2\n",
            "    Uninstalling statsmodels-0.10.2:\n",
            "      Successfully uninstalled statsmodels-0.10.2\n",
            "Successfully installed pmdarima-1.8.4 statsmodels-0.13.1\n"
          ]
        },
        {
          "output_type": "display_data",
          "data": {
            "application/vnd.colab-display-data+json": {
              "pip_warning": {
                "packages": [
                  "statsmodels"
                ]
              }
            }
          },
          "metadata": {}
        }
      ]
    },
    {
      "cell_type": "code",
      "metadata": {
        "colab": {
          "base_uri": "https://localhost:8080/"
        },
        "id": "ih6NC8NchVGW",
        "outputId": "cbe4adba-5f4c-4d73-abb2-f34623d750e5"
      },
      "source": [
        "pip install statsmodels"
      ],
      "execution_count": null,
      "outputs": [
        {
          "output_type": "stream",
          "name": "stdout",
          "text": [
            "Requirement already satisfied: statsmodels in /usr/local/lib/python3.7/dist-packages (0.13.1)\n",
            "Requirement already satisfied: pandas>=0.25 in /usr/local/lib/python3.7/dist-packages (from statsmodels) (1.1.5)\n",
            "Requirement already satisfied: numpy>=1.17 in /usr/local/lib/python3.7/dist-packages (from statsmodels) (1.19.5)\n",
            "Requirement already satisfied: scipy>=1.3 in /usr/local/lib/python3.7/dist-packages (from statsmodels) (1.4.1)\n",
            "Requirement already satisfied: patsy>=0.5.2 in /usr/local/lib/python3.7/dist-packages (from statsmodels) (0.5.2)\n",
            "Requirement already satisfied: python-dateutil>=2.7.3 in /usr/local/lib/python3.7/dist-packages (from pandas>=0.25->statsmodels) (2.8.2)\n",
            "Requirement already satisfied: pytz>=2017.2 in /usr/local/lib/python3.7/dist-packages (from pandas>=0.25->statsmodels) (2018.9)\n",
            "Requirement already satisfied: six in /usr/local/lib/python3.7/dist-packages (from patsy>=0.5.2->statsmodels) (1.15.0)\n"
          ]
        }
      ]
    },
    {
      "cell_type": "code",
      "metadata": {
        "colab": {
          "base_uri": "https://localhost:8080/",
          "height": 518
        },
        "id": "DF1hkMbPgVro",
        "outputId": "f9dc19ce-71e0-455b-86a9-31fa567da5dc"
      },
      "source": [
        "import pmdarima as pmd\n",
        "\n",
        "def arimamodel(timeseries):\n",
        "    autoarima_model = pmd.auto_arima(timeseries, \n",
        "                              start_p=1, \n",
        "                              start_q=1,\n",
        "                              test=\"adf\",\n",
        "                              trace=True)\n",
        "    return autoarima_model"
      ],
      "execution_count": null,
      "outputs": [
        {
          "output_type": "error",
          "ename": "ImportError",
          "evalue": "ignored",
          "traceback": [
            "\u001b[0;31m---------------------------------------------------------------------------\u001b[0m",
            "\u001b[0;31mImportError\u001b[0m                               Traceback (most recent call last)",
            "\u001b[0;32m<ipython-input-87-9fd461794832>\u001b[0m in \u001b[0;36m<module>\u001b[0;34m()\u001b[0m\n\u001b[0;32m----> 1\u001b[0;31m \u001b[0;32mimport\u001b[0m \u001b[0mpmdarima\u001b[0m \u001b[0;32mas\u001b[0m \u001b[0mpmd\u001b[0m\u001b[0;34m\u001b[0m\u001b[0;34m\u001b[0m\u001b[0m\n\u001b[0m\u001b[1;32m      2\u001b[0m \u001b[0;34m\u001b[0m\u001b[0m\n\u001b[1;32m      3\u001b[0m \u001b[0;32mdef\u001b[0m \u001b[0marimamodel\u001b[0m\u001b[0;34m(\u001b[0m\u001b[0mtimeseries\u001b[0m\u001b[0;34m)\u001b[0m\u001b[0;34m:\u001b[0m\u001b[0;34m\u001b[0m\u001b[0;34m\u001b[0m\u001b[0m\n\u001b[1;32m      4\u001b[0m     autoarima_model = pmd.auto_arima(timeseries, \n\u001b[1;32m      5\u001b[0m                               \u001b[0mstart_p\u001b[0m\u001b[0;34m=\u001b[0m\u001b[0;36m1\u001b[0m\u001b[0;34m,\u001b[0m\u001b[0;34m\u001b[0m\u001b[0;34m\u001b[0m\u001b[0m\n",
            "\u001b[0;32m/usr/local/lib/python3.7/dist-packages/pmdarima/__init__.py\u001b[0m in \u001b[0;36m<module>\u001b[0;34m()\u001b[0m\n\u001b[1;32m     49\u001b[0m \u001b[0;34m\u001b[0m\u001b[0m\n\u001b[1;32m     50\u001b[0m     \u001b[0;31m# Stuff we want at top-level\u001b[0m\u001b[0;34m\u001b[0m\u001b[0;34m\u001b[0m\u001b[0;34m\u001b[0m\u001b[0m\n\u001b[0;32m---> 51\u001b[0;31m     \u001b[0;32mfrom\u001b[0m \u001b[0;34m.\u001b[0m\u001b[0marima\u001b[0m \u001b[0;32mimport\u001b[0m \u001b[0mauto_arima\u001b[0m\u001b[0;34m,\u001b[0m \u001b[0mARIMA\u001b[0m\u001b[0;34m,\u001b[0m \u001b[0mAutoARIMA\u001b[0m\u001b[0;34m,\u001b[0m \u001b[0mStepwiseContext\u001b[0m\u001b[0;34m,\u001b[0m \u001b[0mdecompose\u001b[0m\u001b[0;34m\u001b[0m\u001b[0;34m\u001b[0m\u001b[0m\n\u001b[0m\u001b[1;32m     52\u001b[0m     \u001b[0;32mfrom\u001b[0m \u001b[0;34m.\u001b[0m\u001b[0mutils\u001b[0m \u001b[0;32mimport\u001b[0m \u001b[0macf\u001b[0m\u001b[0;34m,\u001b[0m \u001b[0mautocorr_plot\u001b[0m\u001b[0;34m,\u001b[0m \u001b[0mc\u001b[0m\u001b[0;34m,\u001b[0m \u001b[0mpacf\u001b[0m\u001b[0;34m,\u001b[0m \u001b[0mplot_acf\u001b[0m\u001b[0;34m,\u001b[0m \u001b[0mplot_pacf\u001b[0m\u001b[0;34m,\u001b[0m\u001b[0;31m \u001b[0m\u001b[0;31m\\\u001b[0m\u001b[0;34m\u001b[0m\u001b[0;34m\u001b[0m\u001b[0m\n\u001b[1;32m     53\u001b[0m         \u001b[0mtsdisplay\u001b[0m\u001b[0;34m\u001b[0m\u001b[0;34m\u001b[0m\u001b[0m\n",
            "\u001b[0;32m/usr/local/lib/python3.7/dist-packages/pmdarima/arima/__init__.py\u001b[0m in \u001b[0;36m<module>\u001b[0;34m()\u001b[0m\n\u001b[1;32m      4\u001b[0m \u001b[0;34m\u001b[0m\u001b[0m\n\u001b[1;32m      5\u001b[0m \u001b[0;32mfrom\u001b[0m \u001b[0;34m.\u001b[0m\u001b[0mapprox\u001b[0m \u001b[0;32mimport\u001b[0m \u001b[0;34m*\u001b[0m\u001b[0;34m\u001b[0m\u001b[0;34m\u001b[0m\u001b[0m\n\u001b[0;32m----> 6\u001b[0;31m \u001b[0;32mfrom\u001b[0m \u001b[0;34m.\u001b[0m\u001b[0marima\u001b[0m \u001b[0;32mimport\u001b[0m \u001b[0;34m*\u001b[0m\u001b[0;34m\u001b[0m\u001b[0;34m\u001b[0m\u001b[0m\n\u001b[0m\u001b[1;32m      7\u001b[0m \u001b[0;32mfrom\u001b[0m \u001b[0;34m.\u001b[0m\u001b[0mauto\u001b[0m \u001b[0;32mimport\u001b[0m \u001b[0;34m*\u001b[0m\u001b[0;34m\u001b[0m\u001b[0;34m\u001b[0m\u001b[0m\n\u001b[1;32m      8\u001b[0m \u001b[0;32mfrom\u001b[0m \u001b[0;34m.\u001b[0m\u001b[0mutils\u001b[0m \u001b[0;32mimport\u001b[0m \u001b[0;34m*\u001b[0m\u001b[0;34m\u001b[0m\u001b[0;34m\u001b[0m\u001b[0m\n",
            "\u001b[0;32m/usr/local/lib/python3.7/dist-packages/pmdarima/arima/arima.py\u001b[0m in \u001b[0;36m<module>\u001b[0;34m()\u001b[0m\n\u001b[1;32m      8\u001b[0m \u001b[0;32mfrom\u001b[0m \u001b[0msklearn\u001b[0m\u001b[0;34m.\u001b[0m\u001b[0mutils\u001b[0m\u001b[0;34m.\u001b[0m\u001b[0mvalidation\u001b[0m \u001b[0;32mimport\u001b[0m \u001b[0mcheck_array\u001b[0m\u001b[0;34m\u001b[0m\u001b[0;34m\u001b[0m\u001b[0m\n\u001b[1;32m      9\u001b[0m \u001b[0;34m\u001b[0m\u001b[0m\n\u001b[0;32m---> 10\u001b[0;31m \u001b[0;32mfrom\u001b[0m \u001b[0mstatsmodels\u001b[0m \u001b[0;32mimport\u001b[0m \u001b[0mapi\u001b[0m \u001b[0;32mas\u001b[0m \u001b[0msm\u001b[0m\u001b[0;34m\u001b[0m\u001b[0;34m\u001b[0m\u001b[0m\n\u001b[0m\u001b[1;32m     11\u001b[0m \u001b[0;34m\u001b[0m\u001b[0m\n\u001b[1;32m     12\u001b[0m \u001b[0;32mfrom\u001b[0m \u001b[0mscipy\u001b[0m\u001b[0;34m.\u001b[0m\u001b[0mstats\u001b[0m \u001b[0;32mimport\u001b[0m \u001b[0mgaussian_kde\u001b[0m\u001b[0;34m,\u001b[0m \u001b[0mnorm\u001b[0m\u001b[0;34m\u001b[0m\u001b[0;34m\u001b[0m\u001b[0m\n",
            "\u001b[0;32m/usr/local/lib/python3.7/dist-packages/statsmodels/api.py\u001b[0m in \u001b[0;36m<module>\u001b[0;34m()\u001b[0m\n\u001b[1;32m     71\u001b[0m \u001b[0;32mfrom\u001b[0m \u001b[0;34m.\u001b[0m \u001b[0;32mimport\u001b[0m \u001b[0mdatasets\u001b[0m\u001b[0;34m,\u001b[0m \u001b[0mdistributions\u001b[0m\u001b[0;34m,\u001b[0m \u001b[0miolib\u001b[0m\u001b[0;34m,\u001b[0m \u001b[0mregression\u001b[0m\u001b[0;34m,\u001b[0m \u001b[0mrobust\u001b[0m\u001b[0;34m,\u001b[0m \u001b[0mtools\u001b[0m\u001b[0;34m\u001b[0m\u001b[0;34m\u001b[0m\u001b[0m\n\u001b[1;32m     72\u001b[0m \u001b[0;32mfrom\u001b[0m \u001b[0;34m.\u001b[0m\u001b[0m__init__\u001b[0m \u001b[0;32mimport\u001b[0m \u001b[0mtest\u001b[0m\u001b[0;34m\u001b[0m\u001b[0;34m\u001b[0m\u001b[0m\n\u001b[0;32m---> 73\u001b[0;31m from .discrete.count_model import (\n\u001b[0m\u001b[1;32m     74\u001b[0m     \u001b[0mZeroInflatedGeneralizedPoisson\u001b[0m\u001b[0;34m,\u001b[0m\u001b[0;34m\u001b[0m\u001b[0;34m\u001b[0m\u001b[0m\n\u001b[1;32m     75\u001b[0m     \u001b[0mZeroInflatedNegativeBinomialP\u001b[0m\u001b[0;34m,\u001b[0m\u001b[0;34m\u001b[0m\u001b[0;34m\u001b[0m\u001b[0m\n",
            "\u001b[0;32m/usr/local/lib/python3.7/dist-packages/statsmodels/discrete/count_model.py\u001b[0m in \u001b[0;36m<module>\u001b[0;34m()\u001b[0m\n\u001b[1;32m      7\u001b[0m \u001b[0;32mimport\u001b[0m \u001b[0mstatsmodels\u001b[0m\u001b[0;34m.\u001b[0m\u001b[0mbase\u001b[0m\u001b[0;34m.\u001b[0m\u001b[0mwrapper\u001b[0m \u001b[0;32mas\u001b[0m \u001b[0mwrap\u001b[0m\u001b[0;34m\u001b[0m\u001b[0;34m\u001b[0m\u001b[0m\n\u001b[1;32m      8\u001b[0m \u001b[0;32mimport\u001b[0m \u001b[0mstatsmodels\u001b[0m\u001b[0;34m.\u001b[0m\u001b[0mregression\u001b[0m\u001b[0;34m.\u001b[0m\u001b[0mlinear_model\u001b[0m \u001b[0;32mas\u001b[0m \u001b[0mlm\u001b[0m\u001b[0;34m\u001b[0m\u001b[0;34m\u001b[0m\u001b[0m\n\u001b[0;32m----> 9\u001b[0;31m from statsmodels.discrete.discrete_model import (DiscreteModel, CountModel,\n\u001b[0m\u001b[1;32m     10\u001b[0m                                                  \u001b[0mPoisson\u001b[0m\u001b[0;34m,\u001b[0m \u001b[0mLogit\u001b[0m\u001b[0;34m,\u001b[0m \u001b[0mCountResults\u001b[0m\u001b[0;34m,\u001b[0m\u001b[0;34m\u001b[0m\u001b[0;34m\u001b[0m\u001b[0m\n\u001b[1;32m     11\u001b[0m                                                  \u001b[0mL1CountResults\u001b[0m\u001b[0;34m,\u001b[0m \u001b[0mProbit\u001b[0m\u001b[0;34m,\u001b[0m\u001b[0;34m\u001b[0m\u001b[0;34m\u001b[0m\u001b[0m\n",
            "\u001b[0;32m/usr/local/lib/python3.7/dist-packages/statsmodels/discrete/discrete_model.py\u001b[0m in \u001b[0;36m<module>\u001b[0;34m()\u001b[0m\n\u001b[1;32m     19\u001b[0m            \"GeneralizedPoisson\", \"NegativeBinomialP\", \"CountModel\"]\n\u001b[1;32m     20\u001b[0m \u001b[0;34m\u001b[0m\u001b[0m\n\u001b[0;32m---> 21\u001b[0;31m \u001b[0;32mfrom\u001b[0m \u001b[0mstatsmodels\u001b[0m\u001b[0;34m.\u001b[0m\u001b[0mcompat\u001b[0m\u001b[0;34m.\u001b[0m\u001b[0mpandas\u001b[0m \u001b[0;32mimport\u001b[0m \u001b[0mAppender\u001b[0m\u001b[0;34m\u001b[0m\u001b[0;34m\u001b[0m\u001b[0m\n\u001b[0m\u001b[1;32m     22\u001b[0m \u001b[0;34m\u001b[0m\u001b[0m\n\u001b[1;32m     23\u001b[0m \u001b[0;32mimport\u001b[0m \u001b[0mwarnings\u001b[0m\u001b[0;34m\u001b[0m\u001b[0;34m\u001b[0m\u001b[0m\n",
            "\u001b[0;31mImportError\u001b[0m: cannot import name 'Appender' from 'statsmodels.compat.pandas' (/usr/local/lib/python3.7/dist-packages/statsmodels/compat/pandas.py)",
            "",
            "\u001b[0;31m---------------------------------------------------------------------------\u001b[0;32m\nNOTE: If your import is failing due to a missing package, you can\nmanually install dependencies using either !pip or !apt.\n\nTo view examples of installing some common dependencies, click the\n\"Open Examples\" button below.\n\u001b[0;31m---------------------------------------------------------------------------\u001b[0m\n"
          ],
          "errorDetails": {
            "actions": [
              {
                "action": "open_url",
                "actionText": "Open Examples",
                "url": "/notebooks/snippets/importing_libraries.ipynb"
              }
            ]
          }
        }
      ]
    },
    {
      "cell_type": "code",
      "metadata": {
        "id": "w2FYId0-ghu1"
      },
      "source": [
        "arima_model = arimamodel(df_input)\n",
        "arima_model.summary()"
      ],
      "execution_count": null,
      "outputs": []
    },
    {
      "cell_type": "markdown",
      "metadata": {
        "id": "aG0XWuYcVjpC"
      },
      "source": [
        "## Holts Model For Time Series Prediction"
      ]
    },
    {
      "cell_type": "code",
      "metadata": {
        "id": "wdiES2mVVnJZ"
      },
      "source": [
        "from statsmodels.tsa.api import Holt"
      ],
      "execution_count": null,
      "outputs": []
    },
    {
      "cell_type": "code",
      "metadata": {
        "id": "EsMZiOsGNHqU"
      },
      "source": [
        "df_input.head()"
      ],
      "execution_count": null,
      "outputs": []
    },
    {
      "cell_type": "markdown",
      "metadata": {
        "id": "RCW6zMxZ0Njc"
      },
      "source": [
        "**We will now divide our Training data into Train and Validation samples. The training has been performed using 80 % of the dataset and the rest 20 % was kept for testing. The size has been kept same as was the case in Prohpeht Model**"
      ]
    },
    {
      "cell_type": "code",
      "metadata": {
        "id": "sfFf0YRG5UHV"
      },
      "source": [
        "train_data = df_input.iloc[:int(df_input.shape[0]*0.80)]\n",
        "test_data = df_input.iloc[int(df_input.shape[0]*0.80):]"
      ],
      "execution_count": null,
      "outputs": []
    },
    {
      "cell_type": "code",
      "metadata": {
        "id": "ZOyRNvQQ0AdO"
      },
      "source": [
        "print(train_data.shape, test_data.shape)"
      ],
      "execution_count": null,
      "outputs": []
    },
    {
      "cell_type": "markdown",
      "metadata": {
        "id": "xe_v9SpL0m8E"
      },
      "source": [
        ""
      ]
    },
    {
      "cell_type": "code",
      "metadata": {
        "id": "K-iW9Rk5WJLY"
      },
      "source": [
        "fitted_model = Holt(train_data['y']).fit(smoothing_level=1.4, smoothing_slope=0.2)\n"
      ],
      "execution_count": null,
      "outputs": []
    },
    {
      "cell_type": "code",
      "metadata": {
        "id": "-RV4pnvp1CV0"
      },
      "source": [
        "print(fitted_model.summary())"
      ],
      "execution_count": null,
      "outputs": []
    },
    {
      "cell_type": "code",
      "metadata": {
        "id": "KErgLhEI0rrw"
      },
      "source": [
        "test_predictions = fitted_model.predict(600)"
      ],
      "execution_count": null,
      "outputs": []
    },
    {
      "cell_type": "code",
      "metadata": {
        "id": "R7rOKdcyxub3"
      },
      "source": [
        "test_predictions.tail()"
      ],
      "execution_count": null,
      "outputs": []
    },
    {
      "cell_type": "code",
      "metadata": {
        "id": "N2jYRkFiidjm"
      },
      "source": [
        ""
      ],
      "execution_count": null,
      "outputs": []
    }
  ]
}